{
 "cells": [
  {
   "cell_type": "code",
   "execution_count": 1,
   "metadata": {
    "collapsed": true
   },
   "outputs": [],
   "source": [
    "%matplotlib inline"
   ]
  },
  {
   "cell_type": "markdown",
   "metadata": {},
   "source": [
    "# All TEMCA optical image processing"
   ]
  },
  {
   "cell_type": "code",
   "execution_count": 32,
   "metadata": {
    "collapsed": false
   },
   "outputs": [],
   "source": [
    "import numpy as np\n",
    "import matplotlib.pyplot as plt\n",
    "import boto3\n",
    "import skimage.io as io\n",
    "import skimage\n",
    "from skimage import data\n",
    "from skimage import feature\n",
    "from skimage import color\n",
    "from skimage import filters\n",
    "from skimage import transform \n",
    "from skimage import draw\n",
    "from skimage import measure\n",
    "from skimage import morphology\n",
    "import skdemo\n",
    "from scipy import ndimage as ndi\n",
    "from toolbox.TAO.tao import TAO\n",
    "from toolbox.TAO.taoDB import TAOdb"
   ]
  },
  {
   "cell_type": "code",
   "execution_count": 3,
   "metadata": {
    "collapsed": true
   },
   "outputs": [],
   "source": [
    "taoDB = TAOdb()"
   ]
  },
  {
   "cell_type": "code",
   "execution_count": 4,
   "metadata": {
    "collapsed": false
   },
   "outputs": [],
   "source": [
    "ai = {\n",
    "    'imfull': None, # the complete image, including barcode\n",
    "    'imbarcode': None, # just the barcode\n",
    "    'imrgb': None, # cropped image\n",
    "    'imgray': None, # grayscale version of cropped\n",
    "    'imhsv': None, # hsv version of cropped\n",
    "    'im_mask_aperture': None, # mask of aperture\n",
    "    'im_mask_tissue': None, # mask of tissue\n",
    "    'im_mask_film': None, # mask of film\n",
    "    'crop_offset': {'x': 100, 'y': 300}\n",
    "}"
   ]
  },
  {
   "cell_type": "code",
   "execution_count": 5,
   "metadata": {
    "collapsed": true
   },
   "outputs": [],
   "source": [
    "def create_all_images(specimen, media, barcode, ai):\n",
    "    ''' create all of the formats used in later processing'''\n",
    "    url = taoDB.get_aperture_image_url(specimen, media, barcode)\n",
    "    ai['imfull'] = io.imread(url)\n",
    "    # crop off the barcode\n",
    "    ai['imrgb'] = ai['imfull'][ai['crop_offset']['y']:, ai['crop_offset']['x']:, :]\n",
    "    ai['imhsv'] = color.rgb2hsv(ai['imrgb'])\n",
    "    ai['imgray'] = color.rgb2gray(ai['imrgb'])"
   ]
  },
  {
   "cell_type": "code",
   "execution_count": 6,
   "metadata": {
    "collapsed": true
   },
   "outputs": [],
   "source": [
    "def create_aperture_mask(ai):\n",
    "    ''' create a mask which contains the complete aperture as foreground'''\n",
    "    # threshold\n",
    "    threshold = filters.threshold_otsu(ai['imgray'])\n",
    "    imb = ai['imgray'] <= threshold\n",
    "\n",
    "    # label it\n",
    "    imlabel = morphology.label(imb)\n",
    "\n",
    "    # remove small blobs\n",
    "    imnosmall = morphology.remove_small_objects(imlabel, min_size=4000, connectivity=1, in_place=False)\n",
    "\n",
    "    # fill small holes\n",
    "    imnosmall = morphology.remove_small_holes(imnosmall, min_size=200, connectivity=2, in_place=False)\n",
    "\n",
    "    # trim tendrils\n",
    "    se = morphology.disk(11)\n",
    "    imnosmall = morphology.opening(imnosmall, se)\n",
    "    ai['im_mask_aperture'] = imnosmall"
   ]
  },
  {
   "cell_type": "code",
   "execution_count": 58,
   "metadata": {
    "collapsed": true
   },
   "outputs": [],
   "source": [
    "def create_tissue_mask(ai):\n",
    "    ''' create a mask which contains just the tissue as foreground'''\n",
    "    # get just the hue\n",
    "    imv = ai['imhsv'][:,:,0]\n",
    "    threshold = filters.threshold_otsu(imv )\n",
    "    #print threshold\n",
    "    imb = imv < threshold\n",
    "    #skdemo.imshow_with_histogram(imb);\n",
    "    imb = skimage.img_as_int(imb)\n",
    "\n",
    "    # label it\n",
    "    imlabel = morphology.label(imb)\n",
    "\n",
    "    # remove small blobs\n",
    "    imnosmall = morphology.remove_small_objects(imlabel, min_size=4000, connectivity=1, in_place=False)\n",
    "\n",
    "    # fill small holes\n",
    "    imnosmall = morphology.remove_small_holes(imnosmall, min_size=200, connectivity=2, in_place=False)\n",
    "\n",
    "    # trim tendrils\n",
    "    se = morphology.disk(5)\n",
    "    imnosmall = morphology.opening(imnosmall, se)\n",
    "\n",
    "    # remove small blobs\n",
    "    imnosmall = morphology.remove_small_objects(imnosmall, min_size=4000, connectivity=1, in_place=False)\n",
    "    imnosmall = np.logical_and(ai['im_mask_aperture'], imnosmall)\n",
    "    ai['im_mask_tissue'] = imnosmall"
   ]
  },
  {
   "cell_type": "code",
   "execution_count": 8,
   "metadata": {
    "collapsed": true
   },
   "outputs": [],
   "source": [
    "def create_film_mask(ai):\n",
    "    ''' create a mask which contains just the film as foreground'''\n",
    "    film = np.logical_xor (ai['im_mask_aperture'], ai['im_mask_tissue'])\n",
    "    se = morphology.disk(5)\n",
    "    imnosmall = morphology.opening(film, se)\n",
    "    imnosmall = morphology.remove_small_objects(imnosmall, min_size=4000, connectivity=1, in_place=False)\n",
    "    imnosmall = np.logical_and(ai['im_mask_aperture'], imnosmall)\n",
    "    ai['im_mask_film'] = imnosmall"
   ]
  },
  {
   "cell_type": "code",
   "execution_count": 70,
   "metadata": {
    "collapsed": false
   },
   "outputs": [],
   "source": [
    "def find_brightfield_center(ai):\n",
    "    ai['brightfield_center'] = None\n",
    "    ''' find the point on film which is furthest from the film boundary \n",
    "    which will be used as the starting point for brightfield collecion.'''\n",
    "    D = ndi.distance_transform_edt(ai['im_mask_film'])\n",
    "    #skdemo.imshow_with_histogram (D)\n",
    "    localMax = feature.peak_local_max(D, num_peaks=1, indices=True, min_distance=20)\n",
    "    if len(localMax == 1):\n",
    "        ai['brightfield_center'] = {'x': int(localMax[0][1]) + ai['crop_offset']['x'], 'y': int(localMax[0][0]) + ai['crop_offset']['y']}"
   ]
  },
  {
   "cell_type": "code",
   "execution_count": 56,
   "metadata": {
    "collapsed": false
   },
   "outputs": [],
   "source": [
    "def display_one (specimen, media, barcode, ai):\n",
    "    create_all_images(specimen, media, barcode, ai)\n",
    "    create_aperture_mask(ai)\n",
    "    create_tissue_mask(ai)\n",
    "    create_film_mask(ai)\n",
    "    find_brightfield_center(ai)\n",
    "\n",
    "    print barcode, ai['brightfield_center']\n",
    "    fig, (ax_1, ax_2, ax_3, ax_4) = plt.subplots(ncols=4, figsize=(12, 8))\n",
    "    ax_1.imshow(ai['imrgb'])\n",
    "    ax_1.set_title('original')\n",
    "    ax_2.imshow(ai['im_mask_aperture'])\n",
    "    ax_2.set_title('aperture')\n",
    "    ax_3.imshow(ai['im_mask_film'])\n",
    "    ax_3.set_title('film')\n",
    "    ax_4.imshow(ai['im_mask_tissue'])\n",
    "    ax_4.set_title('tissue')\n",
    "    plt.show()"
   ]
  },
  {
   "cell_type": "code",
   "execution_count": 71,
   "metadata": {
    "collapsed": false
   },
   "outputs": [
    {
     "name": "stdout",
     "output_type": "stream",
     "text": [
      "000000 {'y': 579, 'x': 455}\n",
      "000001 {'y': 580, 'x': 439}\n",
      "000002 {'y': 580, 'x': 452}\n",
      "000003 {'y': 584, 'x': 457}\n",
      "000004 {'y': 586, 'x': 437}\n",
      "000005 {'y': 586, 'x': 454}\n",
      "000006 {'y': 587, 'x': 424}\n",
      "000007 {'y': 585, 'x': 442}\n",
      "000008 {'y': 582, 'x': 488}\n",
      "000009 {'y': 584, 'x': 437}\n"
     ]
    }
   ],
   "source": [
    "for j in range (0, 10):\n",
    "    update_tao('239849_7R', '1', str(j).zfill(6), ai)"
   ]
  },
  {
   "cell_type": "code",
   "execution_count": 61,
   "metadata": {
    "collapsed": false
   },
   "outputs": [],
   "source": [
    "find_brightfield_center(ai)\n"
   ]
  },
  {
   "cell_type": "code",
   "execution_count": null,
   "metadata": {
    "collapsed": true
   },
   "outputs": [],
   "source": []
  }
 ],
 "metadata": {
  "kernelspec": {
   "display_name": "Python 2",
   "language": "python",
   "name": "python2"
  },
  "language_info": {
   "codemirror_mode": {
    "name": "ipython",
    "version": 2
   },
   "file_extension": ".py",
   "mimetype": "text/x-python",
   "name": "python",
   "nbconvert_exporter": "python",
   "pygments_lexer": "ipython2",
   "version": "2.7.10"
  }
 },
 "nbformat": 4,
 "nbformat_minor": 0
}
