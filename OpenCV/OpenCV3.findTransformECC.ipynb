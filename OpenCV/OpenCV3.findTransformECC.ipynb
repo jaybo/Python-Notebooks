{
 "cells": [
  {
   "cell_type": "code",
   "execution_count": 1,
   "metadata": {
    "collapsed": false
   },
   "outputs": [],
   "source": [
    "import cv2\n",
    "import numpy as np"
   ]
  },
  {
   "cell_type": "code",
   "execution_count": null,
   "metadata": {
    "collapsed": false
   },
   "outputs": [],
   "source": []
  },
  {
   "cell_type": "code",
   "execution_count": 2,
   "metadata": {
    "collapsed": false
   },
   "outputs": [
    {
     "name": "stdout",
     "output_type": "stream",
     "text": [
      "(2043L, 706L)\n",
      "(2043L, 700L)\n",
      "0.871538141082 [[   1.            0.          381.72052002]\n",
      " [   0.            1.          -24.04422569]]\n"
     ]
    },
    {
     "data": {
      "text/plain": [
       "-1"
      ]
     },
     "execution_count": 2,
     "metadata": {},
     "output_type": "execute_result"
    }
   ],
   "source": [
    "# Read the images to be aligned\n",
    "im1 =  cv2.imread(r\"C:\\Users\\Jay\\OneDrive\\AllenInstitute\\Stitching\\left.tif\", cv2.IMREAD_UNCHANGED);\n",
    "im2 =  cv2.imread(r\"C:\\Users\\Jay\\OneDrive\\AllenInstitute\\Stitching\\right.tif\", cv2.IMREAD_UNCHANGED);\n",
    "\n",
    "print im2.shape\n",
    "# Convert images to grayscale\n",
    "#im1_gray = cv2.cvtColor(im1,cv2.COLOR_BGR2GRAY)\n",
    "#im2_gray = cv2.cvtColor(im2,cv2.COLOR_BGR2GRAY)\n",
    "im1_gray =  np.uint8(im1/256)\n",
    "im2_gray =  np.uint8(im2/256) \n",
    "    \n",
    "    \n",
    "# Find size of image1\n",
    "sz = im1.shape\n",
    "print sz \n",
    "# Define the motion model\n",
    "warp_mode = cv2.MOTION_TRANSLATION\n",
    " \n",
    "# Define 2x3 or 3x3 matrices and initialize the matrix to identity\n",
    "if warp_mode == cv2.MOTION_HOMOGRAPHY :\n",
    "    warp_matrix = np.eye(3, 3, dtype=np.float32)\n",
    "else :\n",
    "    warp_matrix = np.eye(2, 3, dtype=np.float32)\n",
    " \n",
    "# Specify the number of iterations.\n",
    "number_of_iterations = 1000;\n",
    " \n",
    "# Specify the threshold of the increment\n",
    "# in the correlation coefficient between two iterations\n",
    "termination_eps = 1e-10;\n",
    " \n",
    "# Define termination criteria\n",
    "criteria = (cv2.TERM_CRITERIA_EPS | cv2.TERM_CRITERIA_COUNT, number_of_iterations,  termination_eps)\n",
    " \n",
    "# Run the ECC algorithm. The results are stored in warp_matrix.\n",
    "(cc, warp_matrix) = cv2.findTransformECC (im1_gray,im2_gray,warp_matrix, warp_mode, criteria)\n",
    " \n",
    "print cc, warp_matrix\n",
    "\n",
    "if warp_mode == cv2.MOTION_HOMOGRAPHY :\n",
    "    # Use warpPerspective for Homography \n",
    "    im2_aligned = cv2.warpPerspective (im2, warp_matrix, (sz[1],sz[0]), flags=cv2.INTER_LINEAR + cv2.WARP_INVERSE_MAP)\n",
    "else :\n",
    "    # Use warpAffine for Translation, Euclidean and Affine\n",
    "    im2_aligned = cv2.warpAffine(im2, warp_matrix, (sz[1],sz[0]), flags=cv2.INTER_LINEAR + cv2.WARP_INVERSE_MAP);\n",
    " \n",
    "# Show final results\n",
    "cv2.imshow(\"Image 1\", im1)\n",
    "cv2.imshow(\"Image 2\", im2)\n",
    "cv2.imshow(\"Aligned Image 2\", im2_aligned)\n",
    "cv2.waitKey(0)"
   ]
  },
  {
   "cell_type": "code",
   "execution_count": 4,
   "metadata": {
    "collapsed": false
   },
   "outputs": [
    {
     "name": "stdout",
     "output_type": "stream",
     "text": [
      "10\n"
     ]
    }
   ],
   "source": [
    "print 5+5"
   ]
  },
  {
   "cell_type": "code",
   "execution_count": null,
   "metadata": {
    "collapsed": true
   },
   "outputs": [],
   "source": []
  }
 ],
 "metadata": {
  "kernelspec": {
   "display_name": "Python 2",
   "language": "python",
   "name": "python2"
  },
  "language_info": {
   "codemirror_mode": {
    "name": "ipython",
    "version": 2
   },
   "file_extension": ".py",
   "mimetype": "text/x-python",
   "name": "python",
   "nbconvert_exporter": "python",
   "pygments_lexer": "ipython2",
   "version": "2.7.10"
  }
 },
 "nbformat": 4,
 "nbformat_minor": 0
}
