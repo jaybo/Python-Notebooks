{
 "cells": [
  {
   "cell_type": "code",
   "execution_count": 20,
   "metadata": {
    "collapsed": true
   },
   "outputs": [],
   "source": [
    "import numpy as np\n",
    "from scipy import signal"
   ]
  },
  {
   "cell_type": "code",
   "execution_count": 113,
   "metadata": {
    "collapsed": false
   },
   "outputs": [],
   "source": [
    "a =  [0.0,  0.5, 1,  1, 0.5,0]"
   ]
  },
  {
   "cell_type": "code",
   "execution_count": 114,
   "metadata": {
    "collapsed": false
   },
   "outputs": [],
   "source": [
    "v = np.array([\n",
    "[950, 19.1896705627, 36354, 1756.08353364],\n",
    "[850, 19.1997642517, 35931, 1814.82640178],\n",
    "[750, 19.196187973, 35626, 1903.35942629],\n",
    "[650, 19.3742542267, 35249, 2042.45238462],\n",
    "[550, 19.4377803802, 34957, 2307.62051956],\n",
    "[450, 19.7083377838, 34599, 2565.60730542],\n",
    "[350, 19.1574268341, 35531, 1832.51903223],\n",
    "[250, 19.2386646271, 35195, 1935.40388754],\n",
    "[150, 19.3538646698, 34854, 2091.50045713],\n",
    "[50, 19.7020626068, 34513, 2507.27835806],\n",
    "[-50, 19.7284641266, 34216, 2642.11445641],\n",
    "[-150, 19.3782272339, 33938, 2513.22731098],\n",
    "[-250, 19.182964325, 33661, 2332.66499335],\n",
    "[-350, 19.1562023163, 33423, 2156.8595173],\n",
    "[-450, 19.0811309814, 33244, 2005.80851712],\n",
    "[-550, 19.003030777, 33006, 1875.56561486],\n",
    "[-650, 20.9142875671, 32825, 1776.31074684],\n",
    "[-750, 21.9814109802, 32614, 1685.1277602],\n",
    "[-850, 22.9407672882, 32497, 1611.44361927],\n",
    "[-950, 23.9337043762, 32320, 1553.55391814],\n",
    "])\n",
    "\n",
    "v = v[:,1]\n",
    "v\n",
    "\n",
    "#Normalized Data\n",
    "na = (a - np.mean(a)) / (np.std(a) * len(a))\n",
    "nv = (v - np.mean(v)) /  np.std(v)\n",
    "\n",
    "n = (v-min(v))/(max(v)-min(v))\n",
    "\n"
   ]
  },
  {
   "cell_type": "code",
   "execution_count": 115,
   "metadata": {
    "collapsed": false
   },
   "outputs": [
    {
     "data": {
      "text/plain": [
       "(array([ 0.0378528 ,  0.03989992,  0.03917461,  0.07528859,  0.08817246,\n",
       "         0.14304476,  0.03131338,  0.04778938,  0.07115334,  0.14177208,\n",
       "         0.14712662,  0.07609436,  0.03649269,  0.03106503,  0.01583966,\n",
       "         0.        ,  0.3876259 ,  0.60405138,  0.7986204 ,  1.        ]), 20)"
      ]
     },
     "execution_count": 115,
     "metadata": {},
     "output_type": "execute_result"
    }
   ],
   "source": [
    "n, len(n)\n"
   ]
  },
  {
   "cell_type": "code",
   "execution_count": null,
   "metadata": {
    "collapsed": false
   },
   "outputs": [],
   "source": []
  },
  {
   "cell_type": "code",
   "execution_count": 116,
   "metadata": {
    "collapsed": false
   },
   "outputs": [
    {
     "data": {
      "text/plain": [
       "(array([-0.00132181, -0.03538867, -0.08685065, -0.10765609,  0.01768447,\n",
       "         0.01996679, -0.12801242, -0.23702745, -0.10728666,  0.01788833,\n",
       "         0.03948059, -0.09674275, -0.12647359, -0.04502933, -0.40827893,\n",
       "        -0.63511642, -0.42683416, -0.39594862,  0.4109945 ,  0.39594862]), 20)"
      ]
     },
     "execution_count": 116,
     "metadata": {},
     "output_type": "execute_result"
    }
   ],
   "source": [
    "corr = np.correlate(n, template, \"same\")\n",
    "corr, len(corr)"
   ]
  },
  {
   "cell_type": "code",
   "execution_count": 117,
   "metadata": {
    "collapsed": false
   },
   "outputs": [
    {
     "data": {
      "text/plain": [
       "(array([-0.08685065, -0.10765609,  0.01768447,  0.01996679, -0.12801242,\n",
       "        -0.23702745, -0.10728666,  0.01788833,  0.03948059, -0.09674275,\n",
       "        -0.12647359, -0.04502933, -0.40827893, -0.63511642, -0.42683416,\n",
       "        -0.39594862]), 16)"
      ]
     },
     "execution_count": 117,
     "metadata": {},
     "output_type": "execute_result"
    }
   ],
   "source": [
    "corr = signal.correlate(n, template, mode='valid')\n",
    "corr, len(corr)"
   ]
  },
  {
   "cell_type": "code",
   "execution_count": 118,
   "metadata": {
    "collapsed": false
   },
   "outputs": [
    {
     "data": {
      "text/plain": [
       "(array([-0.04914047,  0.06823424,  0.10670189,  0.02064919, -0.11157533,\n",
       "        -0.1266552 ,  0.0780498 ,  0.15135176,  0.08950377, -0.03330407,\n",
       "        -0.05885589, -0.30831205, -0.46208423, -0.32698462, -0.01787254]), 15)"
      ]
     },
     "execution_count": 118,
     "metadata": {},
     "output_type": "execute_result"
    }
   ],
   "source": [
    "corr = signal.correlate(nv, na, mode='valid')\n",
    "corr, len(corr)"
   ]
  },
  {
   "cell_type": "code",
   "execution_count": 119,
   "metadata": {
    "collapsed": false
   },
   "outputs": [
    {
     "data": {
      "text/plain": [
       "(array([-0.00097772, -0.13917516, -0.14772744, -0.04914047,  0.06823424,\n",
       "         0.10670189,  0.02064919, -0.11157533, -0.1266552 ,  0.0780498 ,\n",
       "         0.15135176,  0.08950377, -0.03330407, -0.05885589, -0.30831205,\n",
       "        -0.46208423, -0.32698462, -0.01787254,  0.89653686,  0.90269305]), 20)"
      ]
     },
     "execution_count": 119,
     "metadata": {},
     "output_type": "execute_result"
    }
   ],
   "source": [
    "corr = signal.correlate(nv, na, mode='same')\n",
    "corr, len(corr)"
   ]
  },
  {
   "cell_type": "code",
   "execution_count": null,
   "metadata": {
    "collapsed": true
   },
   "outputs": [],
   "source": []
  }
 ],
 "metadata": {
  "kernelspec": {
   "display_name": "Python 2",
   "language": "python",
   "name": "python2"
  },
  "language_info": {
   "codemirror_mode": {
    "name": "ipython",
    "version": 2
   },
   "file_extension": ".py",
   "mimetype": "text/x-python",
   "name": "python",
   "nbconvert_exporter": "python",
   "pygments_lexer": "ipython2",
   "version": "2.7.10"
  }
 },
 "nbformat": 4,
 "nbformat_minor": 0
}
