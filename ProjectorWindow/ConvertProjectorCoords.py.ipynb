{
 "cells": [
  {
   "cell_type": "code",
   "execution_count": 5,
   "metadata": {
    "collapsed": false
   },
   "outputs": [
    {
     "ename": "IndentationError",
     "evalue": "expected an indented block (<ipython-input-5-478f0b6583eb>, line 34)",
     "output_type": "error",
     "traceback": [
      "\u001b[1;36m  File \u001b[1;32m\"<ipython-input-5-478f0b6583eb>\"\u001b[1;36m, line \u001b[1;32m34\u001b[0m\n\u001b[1;33m    '''\u001b[0m\n\u001b[1;37m               \n^\u001b[0m\n\u001b[1;31mIndentationError\u001b[0m\u001b[1;31m:\u001b[0m expected an indented block\n"
     ]
    }
   ],
   "source": [
    "from psychopy import visual\n",
    "import matplotlib.pyplot as plt\n",
    "import numpy as np\n",
    "\n",
    "from aibs.Core import *\n",
    "from aibs.Projector.ProjectorWindow import *\n",
    "\n",
    "class ConvertProjectorCoords(object):\n",
    "    \"\"\"\n",
    "    Converts stimulus coordinate space to corresponding warped coordinates on ProjectorWindow.\n",
    "    Use case:  You have known 2D coordinates of a stimulus and wish to know where this is in spherical or cylindrical\n",
    "    warped space.\n",
    "    \"\"\"\n",
    "    def __init__(self):\n",
    "        pass\n",
    "    \n",
    "    def StimulusToWarped2D (self, vertices, warp=\"disabled\", eyepoint=(0.5, 0.5)):\n",
    "    '''\n",
    "    Warps X,Y coordinates from stimulus space to warped display coordinates.\n",
    "\n",
    "    Parameters\n",
    "    ----------\n",
    "\n",
    "    vertices: 2D numpy array of X, Y coordinates in stimulus space\n",
    "\n",
    "    warp: defines the warping projection to be applied. Values can be:\n",
    "        \"disabled\" - no correction, same as default PsychoPy projection\n",
    "        \"spherical\" - correct using spherical projection (aka \"Radial\" or \"Equirectangular)\n",
    "        \"cylindrical\" - correct using cylindrical projection\n",
    "\n",
    "    eyepoint: position of the eye in normalized coordinates\n",
    "        (0,0) is lower left, (1,1) is upper right, (0.5, 0.5) is the center (default)\n",
    "\n",
    "    '''        \n",
    "        pass\n",
    "\n",
    "if __name__ == \"__main__\":\n",
    "    cpc = ConvertProjectorCoords()\n",
    "    vertices = np.array([100, 100], [200,200])\n",
    "    cpc.StimulusToWarped2D (vertices,)\n",
    "    pass\n",
    "\n"
   ]
  },
  {
   "cell_type": "code",
   "execution_count": null,
   "metadata": {
    "collapsed": true
   },
   "outputs": [],
   "source": []
  }
 ],
 "metadata": {
  "kernelspec": {
   "display_name": "Python 2",
   "language": "python",
   "name": "python2"
  },
  "language_info": {
   "codemirror_mode": {
    "name": "ipython",
    "version": 2
   },
   "file_extension": ".py",
   "mimetype": "text/x-python",
   "name": "python",
   "nbconvert_exporter": "python",
   "pygments_lexer": "ipython2",
   "version": "2.7.10"
  }
 },
 "nbformat": 4,
 "nbformat_minor": 0
}
