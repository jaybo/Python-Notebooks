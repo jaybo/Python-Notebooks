{
 "cells": [
  {
   "cell_type": "code",
   "execution_count": 30,
   "metadata": {
    "collapsed": false
   },
   "outputs": [
    {
     "name": "stdout",
     "output_type": "stream",
     "text": [
      "(3840L, 3840L) float32\n",
      "Press any key to stop.\n"
     ]
    }
   ],
   "source": [
    "# experiment with Dark Bright image correction\n",
    "import cv2 \n",
    "import numpy as np\n",
    "\n",
    "image = cv2.imread(r\"C:\\smart_data\\Session_CAM\\Grid_5_6_9_Unstained\\20151023134846236_5_0_-2_3_camJ.tif\", cv2.IMREAD_UNCHANGED)\n",
    "image = 16 * image\n",
    "w,h = image.shape\n",
    "\n",
    "iDark = cv2.imread(r\"C:\\Users\\jayb\\Pictures\\TEMCA\\DarkfieldSquareX16.tif\", cv2.IMREAD_UNCHANGED)\n",
    "iBright = cv2.imread(r\"C:\\Users\\jayb\\Pictures\\TEMCA\\BrightfieldSquareX16.tif\", cv2.IMREAD_UNCHANGED)\n",
    "iBrightMinusDark = iBright - iDark\n",
    "iBrightMinusDarkF32 = np.array(iBrightMinusDark, np.float32)\n",
    "iImageMinusDark = image - iDark\n",
    "iImageMinusDarkF32 = np.array (iImageMinusDark, np.float32)\n",
    "\n",
    "print iImageMinusDarkF32.shape, iImageMinusDarkF32.dtype\n",
    "\n",
    "iCorrectedF32 = 65764 * (iImageMinusDarkF32 / iBrightMinusDarkF32)\n",
    "iCorrected = np.array(iCorrected, np.uint16)\n",
    "\n",
    "clicked = False \n",
    "def onMouse( event, x, y, flags, param): \n",
    "    global clicked \n",
    "    if event == cv2.EVENT_LBUTTONUP: \n",
    "        clicked = True \n",
    "\n",
    "cv2.namedWindow('MyWindow') \n",
    "cv2.setMouseCallback('MyWindow', onMouse) \n",
    "print 'Press any key to stop.' \n",
    "\n",
    "while cv2. waitKey( 1) == -1 and not clicked: \n",
    "    cv2. imshow('MyWindow', iCorrected) \n",
    "\n",
    "cv2. destroyWindow('MyWindow')\n"
   ]
  },
  {
   "cell_type": "code",
   "execution_count": null,
   "metadata": {
    "collapsed": true
   },
   "outputs": [],
   "source": []
  }
 ],
 "metadata": {
  "kernelspec": {
   "display_name": "Python 2",
   "language": "python",
   "name": "python2"
  },
  "language_info": {
   "codemirror_mode": {
    "name": "ipython",
    "version": 2
   },
   "file_extension": ".py",
   "mimetype": "text/x-python",
   "name": "python",
   "nbconvert_exporter": "python",
   "pygments_lexer": "ipython2",
   "version": "2.7.10"
  }
 },
 "nbformat": 4,
 "nbformat_minor": 0
}
