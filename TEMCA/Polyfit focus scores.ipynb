{
 "cells": [
  {
   "cell_type": "code",
   "execution_count": 8,
   "metadata": {
    "collapsed": true
   },
   "outputs": [],
   "source": [
    "%matplotlib inline"
   ]
  },
  {
   "cell_type": "code",
   "execution_count": 9,
   "metadata": {
    "collapsed": true
   },
   "outputs": [],
   "source": [
    "#http://stackoverflow.com/questions/19215335/finding-the-intersection-of-a-curve-from-polyfit"
   ]
  },
  {
   "cell_type": "code",
   "execution_count": 33,
   "metadata": {
    "collapsed": false
   },
   "outputs": [
    {
     "name": "stdout",
     "output_type": "stream",
     "text": [
      "poly([-4.17878788  1.52615909 -0.0154125 ])\n",
      "[  2.81832247  96.20254312]\n"
     ]
    },
    {
     "data": {
      "image/png": "[encoded data removed]",
      "text/plain": [
       "<matplotlib.figure.Figure at 0xd71a470>"
      ]
     },
     "metadata": {},
     "output_type": "display_data"
    }
   ],
   "source": [
    "from __future__ import division\n",
    "import numpy as np\n",
    "import matplotlib\n",
    "import matplotlib.pyplot as plt\n",
    "\n",
    "w = np.array([0.0, 11.11111111111111, 22.22222222222222, 33.333333333333336,\n",
    "              44.44444444444444, 55.55555555555556, 66.66666666666667,\n",
    "              77.77777777777777, 88.88888888888889, 100.0])\n",
    "v = np.array([0.0, 8.333333333333332, 16.666666666666664, 25.0,\n",
    "              36.11111111111111, 47.22222222222222, 27.333333333333336,\n",
    "              16.22222222222221, 2.11111111111111, 00.0])\n",
    "\n",
    "poly_coeff = np.polynomial.polynomial.polyfit(w, v, 2)\n",
    "poly = np.polynomial.polynomial.Polynomial(poly_coeff)\n",
    "print poly\n",
    "roots = np.polynomial.polynomial.polyroots(poly_coeff)\n",
    "print roots\n",
    "#x = np.linspace(np.min(roots) - 50, np.max(roots) + 50, num=1000)\n",
    "\n",
    "plt.plot(w, v, 'b-')\n",
    "plt.plot(w, poly(w), 'r-')\n",
    "#plt.plot(w, 99 - x, 'b-')\n",
    "for root in roots:\n",
    "    plt.plot(root, 'ro')"
   ]
  },
  {
   "cell_type": "code",
   "execution_count": null,
   "metadata": {
    "collapsed": true
   },
   "outputs": [],
   "source": []
  }
 ],
 "metadata": {
  "kernelspec": {
   "display_name": "Python 2",
   "language": "python",
   "name": "python2"
  },
  "language_info": {
   "codemirror_mode": {
    "name": "ipython",
    "version": 2
   },
   "file_extension": ".py",
   "mimetype": "text/x-python",
   "name": "python",
   "nbconvert_exporter": "python",
   "pygments_lexer": "ipython2",
   "version": "2.7.10"
  }
 },
 "nbformat": 4,
 "nbformat_minor": 0
}
