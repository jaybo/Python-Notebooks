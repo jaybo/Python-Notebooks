{
 "cells": [
  {
   "cell_type": "code",
   "execution_count": null,
   "metadata": {
    "collapsed": true
   },
   "outputs": [],
   "source": [
    "%matplotlib inline"
   ]
  },
  {
   "cell_type": "markdown",
   "metadata": {},
   "source": [
    "## Optical Match rotation only, no scaling\n",
    "http://stackoverflow.com/questions/26574303/estimate-euclidean-transformation-with-python"
   ]
  },
  {
   "cell_type": "code",
   "execution_count": 11,
   "metadata": {
    "collapsed": false
   },
   "outputs": [
    {
     "name": "stdout",
     "output_type": "stream",
     "text": [
      "<skimage.transform._geometric.SimilarityTransform object at 0x000000001C54DC88>\n"
     ]
    }
   ],
   "source": [
    "from skimage import io, transform\n",
    "import numpy as np\n",
    "from matplotlib.pylab import *\n",
    "from scipy.optimize import *\n",
    "\n",
    "dst = np.array([[1.0,2.0],[1.0,4.0],[3.0,3.0],[3.0,7.0]])\n",
    "src = np.array([[1.2,1.7],[1.1,3.8],[3.1,3.4],[2.6,7.0]])\n",
    "T = transform.estimate_transform('similarity',src, dst)\n",
    "print T"
   ]
  },
  {
   "cell_type": "code",
   "execution_count": 12,
   "metadata": {
    "collapsed": false
   },
   "outputs": [
    {
     "data": {
      "text/plain": [
       "[<matplotlib.lines.Line2D at 0x1c8ecf28>]"
      ]
     },
     "execution_count": 12,
     "metadata": {},
     "output_type": "execute_result"
    },
    {
     "data": {
      "image/png": "[encoded data removed]",
      "text/plain": [
       "<matplotlib.figure.Figure at 0x1c6260f0>"
      ]
     },
     "metadata": {},
     "output_type": "display_data"
    }
   ],
   "source": [
    "fig, (ax0, ax1, ax2) = plt.subplots(1, 3, figsize=(10, 5), sharex=True,\n",
    "                                    sharey=True)\n",
    "ax0.set_title('src')\n",
    "ax1.set_title('dst')\n",
    "ax0.plot(src[:, 1], src[:, 0], '-r', linewidth=4)\n",
    "ax1.plot(dst[:, 1], src[:, 0], '-r', linewidth=4)"
   ]
  },
  {
   "cell_type": "code",
   "execution_count": 10,
   "metadata": {
    "collapsed": false
   },
   "outputs": [
    {
     "name": "stdout",
     "output_type": "stream",
     "text": [
      " final_simplex: (array([[-0.14666661, -0.55942995,  0.35993965],\n",
      "       [-0.1466779 , -0.55949117,  0.35998586],\n",
      "       [-0.14667076, -0.55942846,  0.35997133],\n",
      "       [-0.14665231, -0.55937279,  0.35992499]]), array([ 0.12548207,  0.12548207,  0.12548207,  0.12548207]))\n",
      "           fun: 0.12548207150436777\n",
      "       message: 'Optimization terminated successfully.'\n",
      "          nfev: 194\n",
      "           nit: 106\n",
      "        status: 0\n",
      "       success: True\n",
      "             x: array([-0.14666661, -0.55942995,  0.35993965])\n"
     ]
    }
   ],
   "source": [
    "\n",
    "\n",
    "def obj_fun(pars,x,src):\n",
    "    theta, tx, ty = pars\n",
    "    H = array([[cos(theta), -sin(theta), tx],\\\n",
    "         [sin(theta), cos(theta), ty],\n",
    "         [0,0,1]])\n",
    "    src1 = c_[src,ones(src.shape[0])]\n",
    "    return sum( (x - src1.dot(H.T)[:,:2])**2 )\n",
    "\n",
    "def apply_transform(pars, src):\n",
    "    theta, tx, ty = pars\n",
    "    H = array([[cos(theta), -sin(theta), tx],\\\n",
    "         [sin(theta), cos(theta), ty],\n",
    "         [0,0,1]])\n",
    "    src1 = c_[src,ones(src.shape[0])]\n",
    "    return src1.dot(H.T)[:,:2]\n",
    "\n",
    "res = minimize(obj_fun,[0,0,0],args=(dst,src), method='Nelder-Mead')\n",
    "print res"
   ]
  },
  {
   "cell_type": "code",
   "execution_count": null,
   "metadata": {
    "collapsed": true
   },
   "outputs": [],
   "source": []
  }
 ],
 "metadata": {
  "kernelspec": {
   "display_name": "Python 2",
   "language": "python",
   "name": "python2"
  },
  "language_info": {
   "codemirror_mode": {
    "name": "ipython",
    "version": 2
   },
   "file_extension": ".py",
   "mimetype": "text/x-python",
   "name": "python",
   "nbconvert_exporter": "python",
   "pygments_lexer": "ipython2",
   "version": "2.7.10"
  }
 },
 "nbformat": 4,
 "nbformat_minor": 0
}
