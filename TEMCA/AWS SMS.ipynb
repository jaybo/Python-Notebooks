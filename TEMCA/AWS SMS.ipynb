{
 "cells": [
  {
   "cell_type": "code",
   "execution_count": 22,
   "metadata": {
    "collapsed": false
   },
   "outputs": [],
   "source": [
    "import boto3\n",
    "\n",
    "rds = boto3.setup_default_session(region_name='us-east-1')\n",
    "client = boto3.client('sns')\n",
    "sns = boto3.resource('sns')\n",
    "\n",
    "# this only needs to be done once when initally defining the topic\n",
    "# client.create_topic(Name='TEMCA')\n",
    "# topic = sns.Topic('arn:aws:sns:us-east-1:544397524871:TEMCA')\n",
    "# response = topic.set_attributes(\n",
    "#    AttributeName='DisplayName',\n",
    "#    AttributeValue='TEMCA'\n",
    "# )"
   ]
  },
  {
   "cell_type": "code",
   "execution_count": 17,
   "metadata": {
    "collapsed": true
   },
   "outputs": [],
   "source": []
  },
  {
   "cell_type": "code",
   "execution_count": 18,
   "metadata": {
    "collapsed": false
   },
   "outputs": [],
   "source": [
    "topic = sns.Topic('arn:aws:sns:us-east-1:544397524871:TEMCA')"
   ]
  },
  {
   "cell_type": "code",
   "execution_count": 19,
   "metadata": {
    "collapsed": false
   },
   "outputs": [
    {
     "data": {
      "text/plain": [
       "sns.Subscription(arn='pending confirmation')"
      ]
     },
     "execution_count": 19,
     "metadata": {},
     "output_type": "execute_result"
    }
   ],
   "source": [
    "topic.subscribe(Protocol='sms', Endpoint='1-206-931-5138')"
   ]
  },
  {
   "cell_type": "code",
   "execution_count": 21,
   "metadata": {
    "collapsed": false
   },
   "outputs": [
    {
     "data": {
      "text/plain": [
       "sns.Subscription(arn='pending confirmation')"
      ]
     },
     "execution_count": 21,
     "metadata": {},
     "output_type": "execute_result"
    }
   ],
   "source": [
    "topic.subscribe(Protocol='email', Endpoint ='jayb@alleninstitute.org')"
   ]
  },
  {
   "cell_type": "code",
   "execution_count": 27,
   "metadata": {
    "collapsed": false
   },
   "outputs": [
    {
     "data": {
      "text/plain": [
       "sns.platform_applicationsCollection(sns.ServiceResource(), sns.PlatformApplication)"
      ]
     },
     "execution_count": 27,
     "metadata": {},
     "output_type": "execute_result"
    }
   ],
   "source": [
    "sns.platform_applications.all()"
   ]
  },
  {
   "cell_type": "code",
   "execution_count": 34,
   "metadata": {
    "collapsed": false
   },
   "outputs": [
    {
     "data": {
      "text/plain": [
       "sns.Topic.subscriptionsCollection(sns.Topic(arn='arn:aws:sns:us-east-1:544397524871:TEMCA'), sns.Subscription)"
      ]
     },
     "execution_count": 34,
     "metadata": {},
     "output_type": "execute_result"
    }
   ],
   "source": [
    "topic.subscriptions.all()\n"
   ]
  },
  {
   "cell_type": "code",
   "execution_count": 37,
   "metadata": {
    "collapsed": false
   },
   "outputs": [],
   "source": [
    "response = topic.publish(\n",
    "    Message='Beam down',\n",
    "    Subject='TEMCA Beam down'\n",
    ")"
   ]
  },
  {
   "cell_type": "code",
   "execution_count": null,
   "metadata": {
    "collapsed": true
   },
   "outputs": [],
   "source": []
  }
 ],
 "metadata": {
  "kernelspec": {
   "display_name": "Python 2",
   "language": "python",
   "name": "python2"
  },
  "language_info": {
   "codemirror_mode": {
    "name": "ipython",
    "version": 2
   },
   "file_extension": ".py",
   "mimetype": "text/x-python",
   "name": "python",
   "nbconvert_exporter": "python",
   "pygments_lexer": "ipython2",
   "version": "2.7.10"
  }
 },
 "nbformat": 4,
 "nbformat_minor": 0
}
