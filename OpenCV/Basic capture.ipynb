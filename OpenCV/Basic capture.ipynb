{
 "cells": [
  {
   "cell_type": "code",
   "execution_count": 5,
   "metadata": {
    "collapsed": false
   },
   "outputs": [
    {
     "name": "stdout",
     "output_type": "stream",
     "text": [
      "Showing camera feed. Click window or press any key to stop.\n",
      "True\n"
     ]
    }
   ],
   "source": [
    "import cv2 \n",
    "\n",
    "clicked = False \n",
    "def onMouse( event, x, y, flags, param): \n",
    "    global clicked \n",
    "    if event == cv2.EVENT_LBUTTONUP: \n",
    "        clicked = True \n",
    "\n",
    "cameraCapture = cv2.VideoCapture(0) \n",
    "cv2.namedWindow('MyWindow') \n",
    "cv2.setMouseCallback('MyWindow', onMouse) \n",
    "print 'Showing camera feed. Click window or press any key to stop.' \n",
    "success, frame = cameraCapture.read() \n",
    "print success\n",
    "while success and cv2. waitKey( 1) == -1 and not clicked: \n",
    "    cv2. imshow('MyWindow', frame) \n",
    "    success, frame = cameraCapture.read()\n",
    "\n",
    "cameraCapture.release()\n",
    "cv2. destroyWindow('MyWindow')\n"
   ]
  },
  {
   "cell_type": "code",
   "execution_count": null,
   "metadata": {
    "collapsed": true
   },
   "outputs": [],
   "source": []
  },
  {
   "cell_type": "code",
   "execution_count": null,
   "metadata": {
    "collapsed": true
   },
   "outputs": [],
   "source": []
  }
 ],
 "metadata": {
  "kernelspec": {
   "display_name": "Python 2",
   "language": "python",
   "name": "python2"
  },
  "language_info": {
   "codemirror_mode": {
    "name": "ipython",
    "version": 2
   },
   "file_extension": ".py",
   "mimetype": "text/x-python",
   "name": "python",
   "nbconvert_exporter": "python",
   "pygments_lexer": "ipython2",
   "version": "2.7.10"
  }
 },
 "nbformat": 4,
 "nbformat_minor": 0
}
