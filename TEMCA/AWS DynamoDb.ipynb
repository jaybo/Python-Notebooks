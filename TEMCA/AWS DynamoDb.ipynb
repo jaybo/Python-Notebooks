{
 "cells": [
  {
   "cell_type": "markdown",
   "metadata": {},
   "source": [
    "# Utilities to test DynamoDb and S3 database for TEMCA Optical images"
   ]
  },
  {
   "cell_type": "code",
   "execution_count": 1,
   "metadata": {
    "collapsed": true
   },
   "outputs": [],
   "source": [
    "import boto3\n",
    "\n",
    "# keep the following consistent per run\n",
    "specimen_id = 'donaldtrump'\n",
    "media_id = 'test1'\n",
    "s3bucket = 'temcatester'\n",
    "region = 'us-west-2'"
   ]
  },
  {
   "cell_type": "code",
   "execution_count": 2,
   "metadata": {
    "collapsed": true
   },
   "outputs": [],
   "source": [
    "dynamodb = boto3.resource('dynamodb', region_name=region)"
   ]
  },
  {
   "cell_type": "code",
   "execution_count": 14,
   "metadata": {
    "collapsed": false
   },
   "outputs": [
    {
     "name": "stdout",
     "output_type": "stream",
     "text": [
      "('Table status:', u'CREATING')\n"
     ]
    }
   ],
   "source": [
    "# Create the TAO table.  Just do this once.\n",
    "table = dynamodb.create_table(\n",
    "    TableName='TAO',\n",
    "    KeySchema=[\n",
    "        {\n",
    "            'AttributeName': 'specimenId_mediaId',\n",
    "            'KeyType': 'HASH'  #Partition key\n",
    "        },\n",
    "        {\n",
    "            'AttributeName': 'grid',\n",
    "            'KeyType': 'RANGE'  #Sort key\n",
    "        }\n",
    "    ],\n",
    "    AttributeDefinitions=[\n",
    "        {\n",
    "            'AttributeName': 'specimenId_mediaId',\n",
    "            'AttributeType': 'S'\n",
    "        },\n",
    "        {\n",
    "            'AttributeName': 'grid',\n",
    "            'AttributeType': 'S'\n",
    "        },\n",
    "\n",
    "    ],\n",
    "    ProvisionedThroughput={\n",
    "        'ReadCapacityUnits': 1,\n",
    "        'WriteCapacityUnits': 1\n",
    "    }\n",
    ")\n",
    "\n",
    "print(\"Table status:\", table.table_status)"
   ]
  },
  {
   "cell_type": "code",
   "execution_count": 3,
   "metadata": {
    "collapsed": false
   },
   "outputs": [
    {
     "name": "stdout",
     "output_type": "stream",
     "text": [
      "('Table status:', u'ACTIVE')\n"
     ]
    }
   ],
   "source": [
    "table = dynamodb.Table('TAO')\n",
    "print(\"Table status:\", table.table_status)"
   ]
  },
  {
   "cell_type": "code",
   "execution_count": 5,
   "metadata": {
    "collapsed": false
   },
   "outputs": [
    {
     "ename": "ClientError",
     "evalue": "An error occurred (BucketAlreadyOwnedByYou) when calling the CreateBucket operation: Your previous request to create the named bucket succeeded and you already own it.",
     "output_type": "error",
     "traceback": [
      "\u001b[1;31m---------------------------------------------------------------------------\u001b[0m",
      "\u001b[1;31mClientError\u001b[0m                               Traceback (most recent call last)",
      "\u001b[1;32m<ipython-input-5-a936e0a8d1de>\u001b[0m in \u001b[0;36m<module>\u001b[1;34m()\u001b[0m\n\u001b[0;32m      1\u001b[0m \u001b[1;31m# Create the S3 bucket\u001b[0m\u001b[1;33m\u001b[0m\u001b[1;33m\u001b[0m\u001b[0m\n\u001b[0;32m      2\u001b[0m \u001b[0ms3\u001b[0m \u001b[1;33m=\u001b[0m \u001b[0mboto3\u001b[0m\u001b[1;33m.\u001b[0m\u001b[0mresource\u001b[0m\u001b[1;33m(\u001b[0m\u001b[1;34m's3'\u001b[0m\u001b[1;33m)\u001b[0m\u001b[1;33m\u001b[0m\u001b[0m\n\u001b[1;32m----> 3\u001b[1;33m \u001b[0ms3\u001b[0m\u001b[1;33m.\u001b[0m\u001b[0mcreate_bucket\u001b[0m\u001b[1;33m(\u001b[0m\u001b[0mBucket\u001b[0m\u001b[1;33m=\u001b[0m\u001b[0ms3bucket\u001b[0m\u001b[1;33m,\u001b[0m \u001b[0mCreateBucketConfiguration\u001b[0m\u001b[1;33m=\u001b[0m\u001b[1;33m{\u001b[0m\u001b[1;34m'LocationConstraint'\u001b[0m\u001b[1;33m:\u001b[0m \u001b[0mregion\u001b[0m\u001b[1;33m}\u001b[0m\u001b[1;33m)\u001b[0m\u001b[1;33m\u001b[0m\u001b[0m\n\u001b[0m",
      "\u001b[1;32mC:\\WinPython-64bit-2.7.10.2\\python-2.7.10.amd64\\lib\\site-packages\\boto3\\resources\\factory.pyc\u001b[0m in \u001b[0;36mdo_action\u001b[1;34m(self, *args, **kwargs)\u001b[0m\n\u001b[0;32m    516\u001b[0m             \u001b[1;31m# instance via ``self``.\u001b[0m\u001b[1;33m\u001b[0m\u001b[1;33m\u001b[0m\u001b[0m\n\u001b[0;32m    517\u001b[0m             \u001b[1;32mdef\u001b[0m \u001b[0mdo_action\u001b[0m\u001b[1;33m(\u001b[0m\u001b[0mself\u001b[0m\u001b[1;33m,\u001b[0m \u001b[1;33m*\u001b[0m\u001b[0margs\u001b[0m\u001b[1;33m,\u001b[0m \u001b[1;33m**\u001b[0m\u001b[0mkwargs\u001b[0m\u001b[1;33m)\u001b[0m\u001b[1;33m:\u001b[0m\u001b[1;33m\u001b[0m\u001b[0m\n\u001b[1;32m--> 518\u001b[1;33m                 \u001b[0mresponse\u001b[0m \u001b[1;33m=\u001b[0m \u001b[0maction\u001b[0m\u001b[1;33m(\u001b[0m\u001b[0mself\u001b[0m\u001b[1;33m,\u001b[0m \u001b[1;33m*\u001b[0m\u001b[0margs\u001b[0m\u001b[1;33m,\u001b[0m \u001b[1;33m**\u001b[0m\u001b[0mkwargs\u001b[0m\u001b[1;33m)\u001b[0m\u001b[1;33m\u001b[0m\u001b[0m\n\u001b[0m\u001b[0;32m    519\u001b[0m \u001b[1;33m\u001b[0m\u001b[0m\n\u001b[0;32m    520\u001b[0m                 \u001b[1;32mif\u001b[0m \u001b[0mhasattr\u001b[0m\u001b[1;33m(\u001b[0m\u001b[0mself\u001b[0m\u001b[1;33m,\u001b[0m \u001b[1;34m'load'\u001b[0m\u001b[1;33m)\u001b[0m\u001b[1;33m:\u001b[0m\u001b[1;33m\u001b[0m\u001b[0m\n",
      "\u001b[1;32mC:\\WinPython-64bit-2.7.10.2\\python-2.7.10.amd64\\lib\\site-packages\\boto3\\resources\\action.pyc\u001b[0m in \u001b[0;36m__call__\u001b[1;34m(self, parent, *args, **kwargs)\u001b[0m\n\u001b[0;32m     81\u001b[0m             operation_name, params)\n\u001b[0;32m     82\u001b[0m \u001b[1;33m\u001b[0m\u001b[0m\n\u001b[1;32m---> 83\u001b[1;33m         \u001b[0mresponse\u001b[0m \u001b[1;33m=\u001b[0m \u001b[0mgetattr\u001b[0m\u001b[1;33m(\u001b[0m\u001b[0mparent\u001b[0m\u001b[1;33m.\u001b[0m\u001b[0mmeta\u001b[0m\u001b[1;33m.\u001b[0m\u001b[0mclient\u001b[0m\u001b[1;33m,\u001b[0m \u001b[0moperation_name\u001b[0m\u001b[1;33m)\u001b[0m\u001b[1;33m(\u001b[0m\u001b[1;33m**\u001b[0m\u001b[0mparams\u001b[0m\u001b[1;33m)\u001b[0m\u001b[1;33m\u001b[0m\u001b[0m\n\u001b[0m\u001b[0;32m     84\u001b[0m \u001b[1;33m\u001b[0m\u001b[0m\n\u001b[0;32m     85\u001b[0m         \u001b[0mlogger\u001b[0m\u001b[1;33m.\u001b[0m\u001b[0mdebug\u001b[0m\u001b[1;33m(\u001b[0m\u001b[1;34m'Response: %r'\u001b[0m\u001b[1;33m,\u001b[0m \u001b[0mresponse\u001b[0m\u001b[1;33m)\u001b[0m\u001b[1;33m\u001b[0m\u001b[0m\n",
      "\u001b[1;32mC:\\WinPython-64bit-2.7.10.2\\python-2.7.10.amd64\\lib\\site-packages\\botocore\\client.pyc\u001b[0m in \u001b[0;36m_api_call\u001b[1;34m(self, *args, **kwargs)\u001b[0m\n\u001b[0;32m    256\u001b[0m                     \"%s() only accepts keyword arguments.\" % py_operation_name)\n\u001b[0;32m    257\u001b[0m             \u001b[1;31m# The \"self\" in this scope is referring to the BaseClient.\u001b[0m\u001b[1;33m\u001b[0m\u001b[1;33m\u001b[0m\u001b[0m\n\u001b[1;32m--> 258\u001b[1;33m             \u001b[1;32mreturn\u001b[0m \u001b[0mself\u001b[0m\u001b[1;33m.\u001b[0m\u001b[0m_make_api_call\u001b[0m\u001b[1;33m(\u001b[0m\u001b[0moperation_name\u001b[0m\u001b[1;33m,\u001b[0m \u001b[0mkwargs\u001b[0m\u001b[1;33m)\u001b[0m\u001b[1;33m\u001b[0m\u001b[0m\n\u001b[0m\u001b[0;32m    259\u001b[0m \u001b[1;33m\u001b[0m\u001b[0m\n\u001b[0;32m    260\u001b[0m         \u001b[0m_api_call\u001b[0m\u001b[1;33m.\u001b[0m\u001b[0m__name__\u001b[0m \u001b[1;33m=\u001b[0m \u001b[0mstr\u001b[0m\u001b[1;33m(\u001b[0m\u001b[0mpy_operation_name\u001b[0m\u001b[1;33m)\u001b[0m\u001b[1;33m\u001b[0m\u001b[0m\n",
      "\u001b[1;32mC:\\WinPython-64bit-2.7.10.2\\python-2.7.10.amd64\\lib\\site-packages\\botocore\\client.pyc\u001b[0m in \u001b[0;36m_make_api_call\u001b[1;34m(self, operation_name, api_params)\u001b[0m\n\u001b[0;32m    546\u001b[0m \u001b[1;33m\u001b[0m\u001b[0m\n\u001b[0;32m    547\u001b[0m         \u001b[1;32mif\u001b[0m \u001b[0mhttp\u001b[0m\u001b[1;33m.\u001b[0m\u001b[0mstatus_code\u001b[0m \u001b[1;33m>=\u001b[0m \u001b[1;36m300\u001b[0m\u001b[1;33m:\u001b[0m\u001b[1;33m\u001b[0m\u001b[0m\n\u001b[1;32m--> 548\u001b[1;33m             \u001b[1;32mraise\u001b[0m \u001b[0mClientError\u001b[0m\u001b[1;33m(\u001b[0m\u001b[0mparsed_response\u001b[0m\u001b[1;33m,\u001b[0m \u001b[0moperation_name\u001b[0m\u001b[1;33m)\u001b[0m\u001b[1;33m\u001b[0m\u001b[0m\n\u001b[0m\u001b[0;32m    549\u001b[0m         \u001b[1;32melse\u001b[0m\u001b[1;33m:\u001b[0m\u001b[1;33m\u001b[0m\u001b[0m\n\u001b[0;32m    550\u001b[0m             \u001b[1;32mreturn\u001b[0m \u001b[0mparsed_response\u001b[0m\u001b[1;33m\u001b[0m\u001b[0m\n",
      "\u001b[1;31mClientError\u001b[0m: An error occurred (BucketAlreadyOwnedByYou) when calling the CreateBucket operation: Your previous request to create the named bucket succeeded and you already own it."
     ]
    }
   ],
   "source": [
    "# Create the S3 bucket\n",
    "s3 = boto3.resource('s3')\n",
    "s3.create_bucket(Bucket=s3bucket, CreateBucketConfiguration={'LocationConstraint': region})"
   ]
  },
  {
   "cell_type": "code",
   "execution_count": 9,
   "metadata": {
    "collapsed": false
   },
   "outputs": [
    {
     "name": "stdout",
     "output_type": "stream",
     "text": [
      "0 000051\n",
      "\\\\AIBSDATA2\\nc-em\\adamb\\atumDevelopment\\tapeRuns\\20160721\\20160721_sectionImages\\160721_111222ximeatest.jpeg\n",
      "7\n",
      "upload failed: 160721_111222ximeatest.jpeg\n",
      "1 000051\n",
      "\\\\AIBSDATA2\\nc-em\\adamb\\atumDevelopment\\tapeRuns\\20160721\\20160721_sectionImages\\160721_111223ximeatest.jpeg\n",
      "7\n",
      "upload failed: 160721_111223ximeatest.jpeg\n",
      "2  \\\\AIBSDATA2\\nc-em\\adamb\\atumDevelopment\\tapeRuns\\20160721\\20160721_sectionImages\\160721_111224ximeatest.jpeg\n",
      "0\n",
      "barcode decode failed for: \\\\AIBSDATA2\\nc-em\\adamb\\atumDevelopment\\tapeRuns\\20160721\\20160721_sectionImages\\160721_111224ximeatest.jpeg\n",
      "3  \\\\AIBSDATA2\\nc-em\\adamb\\atumDevelopment\\tapeRuns\\20160721\\20160721_sectionImages\\160721_111225ximeatest.jpeg\n",
      "0\n",
      "barcode decode failed for: \\\\AIBSDATA2\\nc-em\\adamb\\atumDevelopment\\tapeRuns\\20160721\\20160721_sectionImages\\160721_111225ximeatest.jpeg\n"
     ]
    }
   ],
   "source": [
    "# push images and TAOs into the DB\n",
    "import os\n",
    "from subprocess import Popen, PIPE\n",
    "\n",
    "rootdir = r\"\\\\AIBSDATA2\\nc-em\\adamb\\atumDevelopment\\tapeRuns\\20160721\\20160721_sectionImages\"\n",
    "count = 0\n",
    "\n",
    "bucket = s3.Bucket(s3bucket)\n",
    "table = dynamodb.Table('TAO')\n",
    "\n",
    "for root, dirs, files in os.walk(rootdir):\n",
    "    for file in files:\n",
    "        if file.endswith(\".jpeg\"):\n",
    "            fpath = os.path.join(root, file) \n",
    "            p = Popen(['zbarimg.exe', '--raw', fpath], stdout=PIPE, stderr=PIPE, stdin=PIPE)\n",
    "            barcode = p.stdout.read() \n",
    "            \n",
    "            print count, barcode, fpath\n",
    "            count = count + 1\n",
    "            print len(barcode)\n",
    "            if (len(barcode) != 7):\n",
    "                print ('barcode decode failed for: ' + fpath)\n",
    "            else:\n",
    "                try:\n",
    "                    tao = {\n",
    "                        'specimen_id' : specimen_id,\n",
    "                        'media': 'tape',\n",
    "                        'media_id': media_id,\n",
    "                        'grids': {\n",
    "                            barcode : {\n",
    "                                rois: []\n",
    "                            }\n",
    "                        }\n",
    "                    }\n",
    "                    \n",
    "                    item = {'specimenId_mediaId': specimen_id + \"_\" + media_id,\n",
    "                            'grid' : barcode,\n",
    "                            'tao': tao,\n",
    "                            'bucket': s3bucket,\n",
    "                            'aperture_im': file}\n",
    "                    \n",
    "                    response = table.putitem(item)\n",
    "                    print response\n",
    "                    response = s3.Bucket(s3bucket).upload_file(file, fpath)\n",
    "                    print response\n",
    "                    print ('ok')\n",
    "                except:\n",
    "                    print('upload failed: ' + file)\n",
    "            if (count > 3):\n",
    "                break\n",
    "\n"
   ]
  },
  {
   "cell_type": "code",
   "execution_count": null,
   "metadata": {
    "collapsed": true
   },
   "outputs": [],
   "source": []
  }
 ],
 "metadata": {
  "kernelspec": {
   "display_name": "Python 2",
   "language": "python",
   "name": "python2"
  },
  "language_info": {
   "codemirror_mode": {
    "name": "ipython",
    "version": 2
   },
   "file_extension": ".py",
   "mimetype": "text/x-python",
   "name": "python",
   "nbconvert_exporter": "python",
   "pygments_lexer": "ipython2",
   "version": "2.7.10"
  }
 },
 "nbformat": 4,
 "nbformat_minor": 0
}
