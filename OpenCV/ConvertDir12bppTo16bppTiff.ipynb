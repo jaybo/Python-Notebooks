{
 "cells": [
  {
   "cell_type": "code",
   "execution_count": 7,
   "metadata": {
    "collapsed": false
   },
   "outputs": [],
   "source": [
    "# Recursively convert 12 bpp to 16 bpp TIFF\n",
    "import cv2\n",
    "import os\n",
    "from os import listdir, mkdir\n",
    "from os.path import isfile, join"
   ]
  },
  {
   "cell_type": "code",
   "execution_count": 17,
   "metadata": {
    "collapsed": false
   },
   "outputs": [],
   "source": [
    "inRoot = r\"c:\\smart_data\"\n",
    "outRoot = r\"c:\\smartypants\"\n",
    "maxToProcessPerDirectory = 10\n",
    "try:\n",
    "    os.mkdir (outRoot)\n",
    "except:\n",
    "    pass"
   ]
  },
  {
   "cell_type": "code",
   "execution_count": 18,
   "metadata": {
    "collapsed": false
   },
   "outputs": [
    {
     "name": "stdout",
     "output_type": "stream",
     "text": [
      "c:\\smart_data\n",
      "c:\\smart_data Session_CAM c:\\smart_data\\Session_CAM c:\\smartypants\\Session_CAM 0\n",
      "c:\\smart_data\\Session_CAM\n",
      "c:\\smart_data\\Session_CAM Grid_2_SMART c:\\smart_data\\Session_CAM\\Grid_2_SMART c:\\smartypants\\Session_CAM\\Grid_2_SMART 305\n",
      "c:\\smart_data\\Session_CAM\\Grid_2_SMART\\20151023151951585_2_None_camJJ.tif c:\\smartypants\\Session_CAM\\Grid_2_SMART\\20151023151951585_2_None_camJJ.tif\n",
      "c:\\smart_data\\Session_CAM\\Grid_2_SMART\\20151023152109526_2_0_0_0_camJ.tif c:\\smartypants\\Session_CAM\\Grid_2_SMART\\20151023152109526_2_0_0_0_camJ.tif\n",
      "c:\\smart_data\\Session_CAM\\Grid_2_SMART\\20151023152111933_2_0_-2_1_camJ.tif c:\\smartypants\\Session_CAM\\Grid_2_SMART\\20151023152111933_2_0_-2_1_camJ.tif\n",
      "c:\\smart_data\\Session_CAM\\Grid_2_SMART\\20151023152114265_2_0_-1_1_camJ.tif c:\\smartypants\\Session_CAM\\Grid_2_SMART\\20151023152114265_2_0_-1_1_camJ.tif\n",
      "c:\\smart_data\\Session_CAM\\Grid_2_SMART\\20151023152116603_2_0_0_1_camJ.tif c:\\smartypants\\Session_CAM\\Grid_2_SMART\\20151023152116603_2_0_0_1_camJ.tif\n",
      "c:\\smart_data\\Session_CAM\\Grid_2_SMART\\20151023152118935_2_0_1_1_camJ.tif c:\\smartypants\\Session_CAM\\Grid_2_SMART\\20151023152118935_2_0_1_1_camJ.tif\n",
      "c:\\smart_data\\Session_CAM\\Grid_2_SMART\\20151023152121304_2_0_1_2_camJ.tif c:\\smartypants\\Session_CAM\\Grid_2_SMART\\20151023152121304_2_0_1_2_camJ.tif\n",
      "c:\\smart_data\\Session_CAM\\Grid_2_SMART\\20151023152123639_2_0_0_2_camJ.tif c:\\smartypants\\Session_CAM\\Grid_2_SMART\\20151023152123639_2_0_0_2_camJ.tif\n",
      "c:\\smart_data\\Session_CAM\\Grid_2_SMART\\20151023152126317_2_0_-1_2_camJ.tif c:\\smartypants\\Session_CAM\\Grid_2_SMART\\20151023152126317_2_0_-1_2_camJ.tif\n",
      "c:\\smart_data\\Session_CAM\\Grid_2_SMART\\20151023152128636_2_0_-2_2_camJ.tif c:\\smartypants\\Session_CAM\\Grid_2_SMART\\20151023152128636_2_0_-2_2_camJ.tif\n",
      "c:\\smart_data\\Session_CAM\\Grid_2_SMART\\20151023152131018_2_0_-3_2_camJ.tif c:\\smartypants\\Session_CAM\\Grid_2_SMART\\20151023152131018_2_0_-3_2_camJ.tif\n",
      "c:\\smart_data\\Session_CAM Grid_2_SMART_3.67nm c:\\smart_data\\Session_CAM\\Grid_2_SMART_3.67nm c:\\smartypants\\Session_CAM\\Grid_2_SMART_3.67nm 821\n",
      "c:\\smart_data\\Session_CAM\\Grid_2_SMART_3.67nm\\20151023144335088_2_None_camJ.tif c:\\smartypants\\Session_CAM\\Grid_2_SMART_3.67nm\\20151023144335088_2_None_camJ.tif\n",
      "c:\\smart_data\\Session_CAM\\Grid_2_SMART_3.67nm\\20151023144526030_2_0_0_0_camJ.tif c:\\smartypants\\Session_CAM\\Grid_2_SMART_3.67nm\\20151023144526030_2_0_0_0_camJ.tif\n",
      "c:\\smart_data\\Session_CAM\\Grid_2_SMART_3.67nm\\20151023144528305_2_0_-2_1_camJ.tif c:\\smartypants\\Session_CAM\\Grid_2_SMART_3.67nm\\20151023144528305_2_0_-2_1_camJ.tif\n",
      "c:\\smart_data\\Session_CAM\\Grid_2_SMART_3.67nm\\20151023144530647_2_0_-1_1_camJ.tif c:\\smartypants\\Session_CAM\\Grid_2_SMART_3.67nm\\20151023144530647_2_0_-1_1_camJ.tif\n",
      "c:\\smart_data\\Session_CAM\\Grid_2_SMART_3.67nm\\20151023144532958_2_0_0_1_camJ.tif c:\\smartypants\\Session_CAM\\Grid_2_SMART_3.67nm\\20151023144532958_2_0_0_1_camJ.tif\n",
      "c:\\smart_data\\Session_CAM\\Grid_2_SMART_3.67nm\\20151023144535283_2_0_1_2_camJ.tif c:\\smartypants\\Session_CAM\\Grid_2_SMART_3.67nm\\20151023144535283_2_0_1_2_camJ.tif\n",
      "c:\\smart_data\\Session_CAM\\Grid_2_SMART_3.67nm\\20151023144537614_2_0_0_2_camJ.tif c:\\smartypants\\Session_CAM\\Grid_2_SMART_3.67nm\\20151023144537614_2_0_0_2_camJ.tif\n",
      "c:\\smart_data\\Session_CAM\\Grid_2_SMART_3.67nm\\20151023144539930_2_0_-1_2_camJ.tif c:\\smartypants\\Session_CAM\\Grid_2_SMART_3.67nm\\20151023144539930_2_0_-1_2_camJ.tif\n",
      "c:\\smart_data\\Session_CAM\\Grid_2_SMART_3.67nm\\20151023144542283_2_0_-2_2_camJ.tif c:\\smartypants\\Session_CAM\\Grid_2_SMART_3.67nm\\20151023144542283_2_0_-2_2_camJ.tif\n",
      "c:\\smart_data\\Session_CAM\\Grid_2_SMART_3.67nm\\20151023144544635_2_0_-3_2_camJ.tif c:\\smartypants\\Session_CAM\\Grid_2_SMART_3.67nm\\20151023144544635_2_0_-3_2_camJ.tif\n",
      "c:\\smart_data\\Session_CAM\\Grid_2_SMART_3.67nm\\20151023144546983_2_0_-4_2_camJ.tif c:\\smartypants\\Session_CAM\\Grid_2_SMART_3.67nm\\20151023144546983_2_0_-4_2_camJ.tif\n",
      "c:\\smart_data\\Session_CAM Grid_2_SMART_4.5nm c:\\smart_data\\Session_CAM\\Grid_2_SMART_4.5nm c:\\smartypants\\Session_CAM\\Grid_2_SMART_4.5nm 537\n",
      "c:\\smart_data\\Session_CAM\\Grid_2_SMART_4.5nm\\20151023122649716_2_0_0_0_camJ.tif c:\\smartypants\\Session_CAM\\Grid_2_SMART_4.5nm\\20151023122649716_2_0_0_0_camJ.tif\n",
      "c:\\smart_data\\Session_CAM\\Grid_2_SMART_4.5nm\\20151023122652137_2_0_0_1_camJ.tif c:\\smartypants\\Session_CAM\\Grid_2_SMART_4.5nm\\20151023122652137_2_0_0_1_camJ.tif\n",
      "c:\\smart_data\\Session_CAM\\Grid_2_SMART_4.5nm\\20151023122654595_2_0_1_1_camJ.tif c:\\smartypants\\Session_CAM\\Grid_2_SMART_4.5nm\\20151023122654595_2_0_1_1_camJ.tif\n",
      "c:\\smart_data\\Session_CAM\\Grid_2_SMART_4.5nm\\20151023122657011_2_0_2_1_camJ.tif c:\\smartypants\\Session_CAM\\Grid_2_SMART_4.5nm\\20151023122657011_2_0_2_1_camJ.tif\n",
      "c:\\smart_data\\Session_CAM\\Grid_2_SMART_4.5nm\\20151023122659369_2_0_3_1_camJ.tif c:\\smartypants\\Session_CAM\\Grid_2_SMART_4.5nm\\20151023122659369_2_0_3_1_camJ.tif\n",
      "c:\\smart_data\\Session_CAM\\Grid_2_SMART_4.5nm\\20151023122701805_2_0_4_1_camJ.tif c:\\smartypants\\Session_CAM\\Grid_2_SMART_4.5nm\\20151023122701805_2_0_4_1_camJ.tif\n",
      "c:\\smart_data\\Session_CAM\\Grid_2_SMART_4.5nm\\20151023122704175_2_0_5_1_camJ.tif c:\\smartypants\\Session_CAM\\Grid_2_SMART_4.5nm\\20151023122704175_2_0_5_1_camJ.tif\n",
      "c:\\smart_data\\Session_CAM\\Grid_2_SMART_4.5nm\\20151023122706569_2_0_6_1_camJ.tif c:\\smartypants\\Session_CAM\\Grid_2_SMART_4.5nm\\20151023122706569_2_0_6_1_camJ.tif\n",
      "c:\\smart_data\\Session_CAM\\Grid_2_SMART_4.5nm\\20151023122708980_2_0_7_1_camJ.tif c:\\smartypants\\Session_CAM\\Grid_2_SMART_4.5nm\\20151023122708980_2_0_7_1_camJ.tif\n",
      "c:\\smart_data\\Session_CAM\\Grid_2_SMART_4.5nm\\20151023122711389_2_0_8_1_camJ.tif c:\\smartypants\\Session_CAM\\Grid_2_SMART_4.5nm\\20151023122711389_2_0_8_1_camJ.tif\n",
      "c:\\smart_data\\Session_CAM\\Grid_2_SMART_4.5nm\\20151023122713787_2_0_9_1_camJ.tif c:\\smartypants\\Session_CAM\\Grid_2_SMART_4.5nm\\20151023122713787_2_0_9_1_camJ.tif\n",
      "c:\\smart_data\\Session_CAM Grid_3_6_10_Stained c:\\smart_data\\Session_CAM\\Grid_3_6_10_Stained c:\\smartypants\\Session_CAM\\Grid_3_6_10_Stained 825\n",
      "c:\\smart_data\\Session_CAM\\Grid_3_6_10_Stained\\20151023125232953_3_None_camJ.tif c:\\smartypants\\Session_CAM\\Grid_3_6_10_Stained\\20151023125232953_3_None_camJ.tif\n",
      "c:\\smart_data\\Session_CAM\\Grid_3_6_10_Stained\\20151023125316332_3_0_0_0_camJ.tif c:\\smartypants\\Session_CAM\\Grid_3_6_10_Stained\\20151023125316332_3_0_0_0_camJ.tif\n",
      "c:\\smart_data\\Session_CAM\\Grid_3_6_10_Stained\\20151023125318708_3_0_-1_1_camJ.tif c:\\smartypants\\Session_CAM\\Grid_3_6_10_Stained\\20151023125318708_3_0_-1_1_camJ.tif\n",
      "c:\\smart_data\\Session_CAM\\Grid_3_6_10_Stained\\20151023125321098_3_0_0_1_camJ.tif c:\\smartypants\\Session_CAM\\Grid_3_6_10_Stained\\20151023125321098_3_0_0_1_camJ.tif\n",
      "c:\\smart_data\\Session_CAM\\Grid_3_6_10_Stained\\20151023125323498_3_0_1_1_camJ.tif c:\\smartypants\\Session_CAM\\Grid_3_6_10_Stained\\20151023125323498_3_0_1_1_camJ.tif\n",
      "c:\\smart_data\\Session_CAM\\Grid_3_6_10_Stained\\20151023125325845_3_0_1_2_camJ.tif c:\\smartypants\\Session_CAM\\Grid_3_6_10_Stained\\20151023125325845_3_0_1_2_camJ.tif\n",
      "c:\\smart_data\\Session_CAM\\Grid_3_6_10_Stained\\20151023125328245_3_0_0_2_camJ.tif c:\\smartypants\\Session_CAM\\Grid_3_6_10_Stained\\20151023125328245_3_0_0_2_camJ.tif\n",
      "c:\\smart_data\\Session_CAM\\Grid_3_6_10_Stained\\20151023125330640_3_0_-1_2_camJ.tif c:\\smartypants\\Session_CAM\\Grid_3_6_10_Stained\\20151023125330640_3_0_-1_2_camJ.tif\n",
      "c:\\smart_data\\Session_CAM\\Grid_3_6_10_Stained\\20151023125332959_3_0_-2_2_camJ.tif c:\\smartypants\\Session_CAM\\Grid_3_6_10_Stained\\20151023125332959_3_0_-2_2_camJ.tif\n",
      "c:\\smart_data\\Session_CAM\\Grid_3_6_10_Stained\\20151023125335296_3_0_-3_2_camJ.tif c:\\smartypants\\Session_CAM\\Grid_3_6_10_Stained\\20151023125335296_3_0_-3_2_camJ.tif\n",
      "c:\\smart_data\\Session_CAM\\Grid_3_6_10_Stained\\20151023125337656_3_0_-4_3_camJ.tif c:\\smartypants\\Session_CAM\\Grid_3_6_10_Stained\\20151023125337656_3_0_-4_3_camJ.tif\n",
      "c:\\smart_data\\Session_CAM Grid_5_6_9_Unstained c:\\smart_data\\Session_CAM\\Grid_5_6_9_Unstained c:\\smartypants\\Session_CAM\\Grid_5_6_9_Unstained 304\n",
      "c:\\smart_data\\Session_CAM\\Grid_5_6_9_Unstained\\20151023134318351_5_None_camJ.tif c:\\smartypants\\Session_CAM\\Grid_5_6_9_Unstained\\20151023134318351_5_None_camJ.tif\n",
      "c:\\smart_data\\Session_CAM\\Grid_5_6_9_Unstained\\20151023134813433_5_0_0_0_camJ.tif c:\\smartypants\\Session_CAM\\Grid_5_6_9_Unstained\\20151023134813433_5_0_0_0_camJ.tif\n",
      "c:\\smart_data\\Session_CAM\\Grid_5_6_9_Unstained\\20151023134815761_5_0_-2_1_camJ.tif c:\\smartypants\\Session_CAM\\Grid_5_6_9_Unstained\\20151023134815761_5_0_-2_1_camJ.tif\n",
      "c:\\smart_data\\Session_CAM\\Grid_5_6_9_Unstained\\20151023134818101_5_0_-1_1_camJ.tif c:\\smartypants\\Session_CAM\\Grid_5_6_9_Unstained\\20151023134818101_5_0_-1_1_camJ.tif\n",
      "c:\\smart_data\\Session_CAM\\Grid_5_6_9_Unstained\\20151023134820467_5_0_0_1_camJ.tif c:\\smartypants\\Session_CAM\\Grid_5_6_9_Unstained\\20151023134820467_5_0_0_1_camJ.tif\n",
      "c:\\smart_data\\Session_CAM\\Grid_5_6_9_Unstained\\20151023134822818_5_0_1_2_camJ.tif c:\\smartypants\\Session_CAM\\Grid_5_6_9_Unstained\\20151023134822818_5_0_1_2_camJ.tif\n",
      "c:\\smart_data\\Session_CAM\\Grid_5_6_9_Unstained\\20151023134825176_5_0_0_2_camJ.tif c:\\smartypants\\Session_CAM\\Grid_5_6_9_Unstained\\20151023134825176_5_0_0_2_camJ.tif\n",
      "c:\\smart_data\\Session_CAM\\Grid_5_6_9_Unstained\\20151023134827576_5_0_-1_2_camJ.tif c:\\smartypants\\Session_CAM\\Grid_5_6_9_Unstained\\20151023134827576_5_0_-1_2_camJ.tif\n",
      "c:\\smart_data\\Session_CAM\\Grid_5_6_9_Unstained\\20151023134829912_5_0_-2_2_camJ.tif c:\\smartypants\\Session_CAM\\Grid_5_6_9_Unstained\\20151023134829912_5_0_-2_2_camJ.tif\n",
      "c:\\smart_data\\Session_CAM\\Grid_5_6_9_Unstained\\20151023134832270_5_0_-3_2_camJ.tif c:\\smartypants\\Session_CAM\\Grid_5_6_9_Unstained\\20151023134832270_5_0_-3_2_camJ.tif\n",
      "c:\\smart_data\\Session_CAM\\Grid_5_6_9_Unstained\\20151023134834599_5_0_-4_2_camJ.tif c:\\smartypants\\Session_CAM\\Grid_5_6_9_Unstained\\20151023134834599_5_0_-4_2_camJ.tif\n",
      "c:\\smart_data\\Session_CAM Grid_7_16_6C c:\\smart_data\\Session_CAM\\Grid_7_16_6C c:\\smartypants\\Session_CAM\\Grid_7_16_6C 825\n",
      "c:\\smart_data\\Session_CAM\\Grid_7_16_6C\\20151023140253249_7_None_camJ.tif c:\\smartypants\\Session_CAM\\Grid_7_16_6C\\20151023140253249_7_None_camJ.tif\n",
      "c:\\smart_data\\Session_CAM\\Grid_7_16_6C\\20151023140447191_7_0_0_0_camJ.tif c:\\smartypants\\Session_CAM\\Grid_7_16_6C\\20151023140447191_7_0_0_0_camJ.tif\n",
      "c:\\smart_data\\Session_CAM\\Grid_7_16_6C\\20151023140449573_7_0_-1_1_camJ.tif c:\\smartypants\\Session_CAM\\Grid_7_16_6C\\20151023140449573_7_0_-1_1_camJ.tif\n",
      "c:\\smart_data\\Session_CAM\\Grid_7_16_6C\\20151023140451909_7_0_0_1_camJ.tif c:\\smartypants\\Session_CAM\\Grid_7_16_6C\\20151023140451909_7_0_0_1_camJ.tif\n",
      "c:\\smart_data\\Session_CAM\\Grid_7_16_6C\\20151023140454304_7_0_1_1_camJ.tif c:\\smartypants\\Session_CAM\\Grid_7_16_6C\\20151023140454304_7_0_1_1_camJ.tif\n",
      "c:\\smart_data\\Session_CAM\\Grid_7_16_6C\\20151023140456679_7_0_1_2_camJ.tif c:\\smartypants\\Session_CAM\\Grid_7_16_6C\\20151023140456679_7_0_1_2_camJ.tif\n",
      "c:\\smart_data\\Session_CAM\\Grid_7_16_6C\\20151023140459118_7_0_0_2_camJ.tif c:\\smartypants\\Session_CAM\\Grid_7_16_6C\\20151023140459118_7_0_0_2_camJ.tif\n",
      "c:\\smart_data\\Session_CAM\\Grid_7_16_6C\\20151023140501477_7_0_-1_2_camJ.tif c:\\smartypants\\Session_CAM\\Grid_7_16_6C\\20151023140501477_7_0_-1_2_camJ.tif\n",
      "c:\\smart_data\\Session_CAM\\Grid_7_16_6C\\20151023140503841_7_0_-2_2_camJ.tif c:\\smartypants\\Session_CAM\\Grid_7_16_6C\\20151023140503841_7_0_-2_2_camJ.tif\n",
      "c:\\smart_data\\Session_CAM\\Grid_7_16_6C\\20151023140506249_7_0_-3_2_camJ.tif c:\\smartypants\\Session_CAM\\Grid_7_16_6C\\20151023140506249_7_0_-3_2_camJ.tif\n",
      "c:\\smart_data\\Session_CAM\\Grid_7_16_6C\\20151023140508640_7_0_-4_3_camJ.tif c:\\smartypants\\Session_CAM\\Grid_7_16_6C\\20151023140508640_7_0_-4_3_camJ.tif\n",
      "c:\\smart_data\\Session_CAM\\Grid_2_SMART\n",
      "c:\\smart_data\\Session_CAM\\Grid_2_SMART_3.67nm\n",
      "c:\\smart_data\\Session_CAM\\Grid_2_SMART_4.5nm\n",
      "c:\\smart_data\\Session_CAM\\Grid_3_6_10_Stained\n",
      "c:\\smart_data\\Session_CAM\\Grid_5_6_9_Unstained\n",
      "c:\\smart_data\\Session_CAM\\Grid_7_16_6C\n"
     ]
    }
   ],
   "source": [
    "cv2.namedWindow (\"cap\")\n",
    "for root, dirs, files in os.walk(inRoot):\n",
    "    print root\n",
    "    for d in dirs:\n",
    "        inDir = join (root, d)\n",
    "        outDir= inDir.replace(inRoot, outRoot)\n",
    "        try:\n",
    "            os.mkdir (outDir)\n",
    "        except:\n",
    "            pass\n",
    "        onlyFiles = [ f for f in listdir(inDir) if isfile(join(inDir,f)) ]\n",
    "        print root, d, inDir, outDir, len(onlyFiles)\n",
    "     \n",
    "        for i, f in enumerate(onlyFiles):\n",
    "            if i > maxToProcessPerDirectory:\n",
    "                pass\n",
    "            elif f.endswith(\".tif\"):\n",
    "                inPath = join(inDir, f)\n",
    "                outPath = join(outDir, f)\n",
    "                print  inPath, outPath \n",
    "                frame = cv2.imread(inPath, cv2.IMREAD_UNCHANGED)\n",
    "                frame = 16 * frame \n",
    "                cv2.imwrite (outPath, frame)\n",
    "                cv2.imshow('cap', frame) \n",
    "                cv2.waitKey (1)\n"
   ]
  },
  {
   "cell_type": "code",
   "execution_count": null,
   "metadata": {
    "collapsed": true
   },
   "outputs": [],
   "source": []
  }
 ],
 "metadata": {
  "kernelspec": {
   "display_name": "Python 2",
   "language": "python",
   "name": "python2"
  },
  "language_info": {
   "codemirror_mode": {
    "name": "ipython",
    "version": 2
   },
   "file_extension": ".py",
   "mimetype": "text/x-python",
   "name": "python",
   "nbconvert_exporter": "python",
   "pygments_lexer": "ipython2",
   "version": "2.7.10"
  }
 },
 "nbformat": 4,
 "nbformat_minor": 0
}
