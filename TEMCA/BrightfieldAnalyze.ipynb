{
 "cells": [
  {
   "cell_type": "code",
   "execution_count": 10,
   "metadata": {
    "collapsed": false
   },
   "outputs": [],
   "source": [
    "# analyze the Bright and Dark images\n",
    "import cv2 \n",
    "import numpy as np\n",
    "from mpl_toolkits.mplot3d import Axes3D\n",
    "import matplotlib.pyplot as plt\n",
    "\n",
    "def display_surface(img):\n",
    "    size = 512\n",
    "    w,h = img.shape\n",
    "    w2 = w / 2\n",
    "    h2 = h / 2\n",
    "    img = img[h2 : h2 + size, h2 : h2 + size]\n",
    "    \n",
    "    fig=plt.figure()\n",
    "    ax = Axes3D(fig)\n",
    "    w,h = img.shape\n",
    "    xx, yy = np.mgrid[0:w, 0:h]\n",
    "    # plot3D requires a 1D array for x, y, and z\n",
    "    # ravel() converts the 100x100 array into a 1x10000 array\n",
    "    #ax.plot_surface(xx,yy,img,  cmap=plt.cm.jet)\n",
    "    ax.plot_wireframe(xx,yy,img,  cmap=plt.cm.jet)\n",
    "    ax.set_xlabel('X')\n",
    "    ax.set_ylabel('Y')\n",
    "    ax.set_zlabel('Z')\n",
    "    fig.add_axes(ax)\n",
    "    plt.show()\n",
    "\n",
    "def display_image(img):\n",
    "    clicked = False \n",
    "    def onMouse( event, x, y, flags, param): \n",
    "        global clicked \n",
    "        if event == cv2.EVENT_LBUTTONUP: \n",
    "            clicked = True \n",
    "\n",
    "    cv2.namedWindow('MyWindow') \n",
    "    cv2.setMouseCallback('MyWindow', onMouse) \n",
    "    print 'Press any key to stop.' \n",
    "\n",
    "    while cv2. waitKey( 1) == -1 and not clicked: \n",
    "        cv2. imshow('MyWindow', img) \n",
    "\n",
    "    cv2. destroyWindow('MyWindow')\n",
    "\n",
    "temca1BDark =  r\"C:\\temca\\temca1\\config\\DarkField_48500328.tif\"\n",
    "temca1Bright = r\"C:\\temca\\temca1\\config\\BrightField_48500328.tif\"\n",
    "temca2Dark =   r\"C:\\temca\\temca2\\config\\DarkField_44500428.tif\"\n",
    "temca2Bright = r\"C:\\temca\\temca2\\config\\BrightField_44500428.tif\"\n",
    "\n",
    "bright_file = temca2Bright\n",
    "dark_file = temca2Dark\n",
    "\n",
    "iDark = cv2.imread(dark_file, cv2.IMREAD_UNCHANGED)\n",
    "iBright = cv2.imread(bright_file, cv2.IMREAD_UNCHANGED)\n",
    "\n",
    "iBrightMinusDark = iBright - iDark\n",
    "iBrightMinusDarkU8 = np.array(iBrightMinusDark / 256, np.uint8)\n",
    "iBrightMinusDarkF32 = np.array(iBrightMinusDark, np.float32)\n",
    "\n",
    "iCorrected = np.array(iBrightMinusDarkF32, np.uint16)\n",
    "\n",
    "img = iBrightMinusDarkU8\n",
    "#img = iBright / 256\n",
    "\n",
    "display_surface(img)\n",
    "# display_image(img)\n",
    "\n",
    "\n"
   ]
  },
  {
   "cell_type": "code",
   "execution_count": null,
   "metadata": {
    "collapsed": true
   },
   "outputs": [],
   "source": []
  }
 ],
 "metadata": {
  "kernelspec": {
   "display_name": "Python 2",
   "language": "python",
   "name": "python2"
  },
  "language_info": {
   "codemirror_mode": {
    "name": "ipython",
    "version": 2
   },
   "file_extension": ".py",
   "mimetype": "text/x-python",
   "name": "python",
   "nbconvert_exporter": "python",
   "pygments_lexer": "ipython2",
   "version": "2.7.10"
  }
 },
 "nbformat": 4,
 "nbformat_minor": 0
}
