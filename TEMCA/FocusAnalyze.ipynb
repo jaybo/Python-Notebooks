{
 "cells": [
  {
   "cell_type": "code",
   "execution_count": 1,
   "metadata": {
    "collapsed": false
   },
   "outputs": [],
   "source": [
    "# %matplotlib inline"
   ]
  },
  {
   "cell_type": "code",
   "execution_count": null,
   "metadata": {
    "collapsed": false
   },
   "outputs": [],
   "source": []
  },
  {
   "cell_type": "code",
   "execution_count": 2,
   "metadata": {
    "collapsed": false
   },
   "outputs": [
    {
     "name": "stdout",
     "output_type": "stream",
     "text": [
      "Available matplotlib backends: ['osx', 'qt4', 'qt5', 'gtk3', 'notebook', 'wx', 'qt', 'nbagg', 'gtk', 'tk', 'inline']\n"
     ]
    }
   ],
   "source": [
    " %matplotlib --list"
   ]
  },
  {
   "cell_type": "code",
   "execution_count": 22,
   "metadata": {
    "collapsed": false
   },
   "outputs": [
    {
     "name": "stdout",
     "output_type": "stream",
     "text": [
      "(256L, 1L, 3L)\n"
     ]
    },
    {
     "ename": "UnboundLocalError",
     "evalue": "local variable 'meta' referenced before assignment",
     "output_type": "error",
     "traceback": [
      "\u001b[1;31m---------------------------------------------------------------------------\u001b[0m",
      "\u001b[1;31mUnboundLocalError\u001b[0m                         Traceback (most recent call last)",
      "\u001b[1;32m<ipython-input-22-a884d51f3e5c>\u001b[0m in \u001b[0;36m<module>\u001b[1;34m()\u001b[0m\n\u001b[0;32m    151\u001b[0m     \u001b[0mcv2\u001b[0m\u001b[1;33m.\u001b[0m\u001b[0msetMouseCallback\u001b[0m\u001b[1;33m(\u001b[0m\u001b[0mrootdir\u001b[0m\u001b[1;33m,\u001b[0m \u001b[0mheatmap_click\u001b[0m\u001b[1;33m)\u001b[0m\u001b[1;33m\u001b[0m\u001b[0m\n\u001b[0;32m    152\u001b[0m \u001b[1;33m\u001b[0m\u001b[0m\n\u001b[1;32m--> 153\u001b[1;33m     \u001b[0mprocess_one\u001b[0m\u001b[1;33m(\u001b[0m\u001b[0mrootdir\u001b[0m\u001b[1;33m)\u001b[0m\u001b[1;33m\u001b[0m\u001b[0m\n\u001b[0m",
      "\u001b[1;32m<ipython-input-22-a884d51f3e5c>\u001b[0m in \u001b[0;36mprocess_one\u001b[1;34m(rootdir)\u001b[0m\n\u001b[0;32m     49\u001b[0m     \u001b[1;32mglobal\u001b[0m \u001b[0mtrows\u001b[0m\u001b[1;33m,\u001b[0m \u001b[0mtcols\u001b[0m\u001b[1;33m,\u001b[0m \u001b[0mscaled_montage_h\u001b[0m\u001b[1;33m,\u001b[0m \u001b[0mscaled_montage_w\u001b[0m\u001b[1;33m\u001b[0m\u001b[0m\n\u001b[0;32m     50\u001b[0m \u001b[1;33m\u001b[0m\u001b[0m\n\u001b[1;32m---> 51\u001b[1;33m     \u001b[0mmeta\u001b[0m\u001b[1;33m,\u001b[0m \u001b[0mmontage\u001b[0m \u001b[1;33m=\u001b[0m \u001b[0mget_meta_and_montage_files\u001b[0m\u001b[1;33m(\u001b[0m\u001b[0mrootdir\u001b[0m\u001b[1;33m)\u001b[0m\u001b[1;33m\u001b[0m\u001b[0m\n\u001b[0m\u001b[0;32m     52\u001b[0m \u001b[1;33m\u001b[0m\u001b[0m\n\u001b[0;32m     53\u001b[0m     \u001b[1;32mwith\u001b[0m \u001b[0mopen\u001b[0m\u001b[1;33m(\u001b[0m\u001b[0mmeta\u001b[0m\u001b[1;33m)\u001b[0m \u001b[1;32mas\u001b[0m \u001b[0mdata_file\u001b[0m\u001b[1;33m:\u001b[0m\u001b[1;33m\u001b[0m\u001b[0m\n",
      "\u001b[1;32m<ipython-input-22-a884d51f3e5c>\u001b[0m in \u001b[0;36mget_meta_and_montage_files\u001b[1;34m(rootdir)\u001b[0m\n\u001b[0;32m     43\u001b[0m     \u001b[1;32mfor\u001b[0m \u001b[0mname\u001b[0m \u001b[1;32min\u001b[0m \u001b[0mglob\u001b[0m\u001b[1;33m.\u001b[0m\u001b[0mglob\u001b[0m\u001b[1;33m(\u001b[0m\u001b[0mos\u001b[0m\u001b[1;33m.\u001b[0m\u001b[0mpath\u001b[0m\u001b[1;33m.\u001b[0m\u001b[0mjoin\u001b[0m\u001b[1;33m(\u001b[0m\u001b[0mrootdir\u001b[0m\u001b[1;33m,\u001b[0m \u001b[1;34mr\"_montage*.*\"\u001b[0m\u001b[1;33m)\u001b[0m\u001b[1;33m)\u001b[0m\u001b[1;33m:\u001b[0m\u001b[1;33m\u001b[0m\u001b[0m\n\u001b[0;32m     44\u001b[0m         \u001b[0mmontage\u001b[0m \u001b[1;33m=\u001b[0m \u001b[0mname\u001b[0m\u001b[1;33m\u001b[0m\u001b[0m\n\u001b[1;32m---> 45\u001b[1;33m     \u001b[1;32mreturn\u001b[0m \u001b[1;33m(\u001b[0m\u001b[0mmeta\u001b[0m\u001b[1;33m,\u001b[0m \u001b[0mmontage\u001b[0m\u001b[1;33m)\u001b[0m\u001b[1;33m\u001b[0m\u001b[0m\n\u001b[0m\u001b[0;32m     46\u001b[0m \u001b[1;33m\u001b[0m\u001b[0m\n\u001b[0;32m     47\u001b[0m \u001b[1;33m\u001b[0m\u001b[0m\n",
      "\u001b[1;31mUnboundLocalError\u001b[0m: local variable 'meta' referenced before assignment"
     ]
    }
   ],
   "source": [
    "# analyze the focus values for a montage\n",
    "import cv2\n",
    "import numpy as np\n",
    "from mpl_toolkits.mplot3d import Axes3D\n",
    "import matplotlib.pyplot as plt\n",
    "import matplotlib.colors as mc\n",
    "import json\n",
    "import glob\n",
    "import os\n",
    "from subprocess import call\n",
    "\n",
    "min_v_to_plot = 37\n",
    "#cmap = plt.cm.hot \n",
    "cmap = plt.cm.rainbow\n",
    "scale = 8\n",
    "trows = 0\n",
    "tcols = 0\n",
    "scaled_montage_w = 0\n",
    "scaled_montage_h = 0\n",
    "root_dir = \"\"\n",
    "\n",
    "def display_surface(img):\n",
    "    fig=plt.figure()\n",
    "    ax = Axes3D(fig)\n",
    "    w,h = img.shape\n",
    "    xx, yy = np.mgrid[0:w, 0:h]\n",
    "    \n",
    "    # plot3D requires a 1D array for x, y, and z\n",
    "    # ravel() converts the 100x100 array into a 1x10000 array\n",
    "    #ax.plot_surface(xx,yy,img,  cmap=plt.cm.jet)\n",
    "    ax.plot_surface(xx,yy,img, rstride=2, cstride=2, linewidth=0, cmap=cmap, vmin=min_v_to_plot, antialiased=False,  shade=True, )\n",
    "    #ax.plot_wireframe(xx,yy,img, linewidth=1, cmap=cmap)\n",
    "    ax.set_xlabel('X')\n",
    "    ax.set_ylabel('Y')\n",
    "    ax.set_zlabel('Z')\n",
    "    fig.add_axes(ax)\n",
    "    plt.show()\n",
    "\n",
    "def get_meta_and_montage_files(rootdir):\n",
    "    '''get the names of the meta and montage files'''\n",
    "    for name in glob.glob(os.path.join(rootdir, r\"_meta*.*\")):\n",
    "        meta = name\n",
    "    for name in glob.glob(os.path.join(rootdir, r\"_montage*.*\")):\n",
    "        montage = name\n",
    "    return (meta, montage)\n",
    "\n",
    "\n",
    "def process_one(rootdir):\n",
    "    global trows, tcols, scaled_montage_h, scaled_montage_w\n",
    "\n",
    "    meta, montage = get_meta_and_montage_files(rootdir)\n",
    "\n",
    "    with open(meta) as data_file:\n",
    "        json_data = json.load(data_file)\n",
    "\n",
    "    data = json_data[1]['data']\n",
    "\n",
    "    # figure out the number of rows and columns\n",
    "    trows = tcols = 0\n",
    "    for tile in data:\n",
    "        rp = tile['img_meta']['raster_pos']\n",
    "        col = rp[0]\n",
    "        row = rp[1]\n",
    "        #print row, col\n",
    "        if row > trows:\n",
    "            trows = row\n",
    "        if col > tcols:\n",
    "            tcols = col\n",
    "\n",
    "    print trows, tcols\n",
    "\n",
    "    img = np.empty((int(trows + 1), int(tcols+1)))\n",
    "    img.fill(min_v_to_plot)\n",
    "\n",
    "    for tile in data:\n",
    "        rp = tile['img_meta']['raster_pos']\n",
    "        col = rp[0]\n",
    "        row = rp[1]\n",
    "        focus = tile[\"focus_score\"]\n",
    "        if focus < min_v_to_plot:  # danger, removing data!!!\n",
    "            focus = min_v_to_plot\n",
    "        #print focus\n",
    "        img[row][col] = focus\n",
    "\n",
    "    # MONTAGE\n",
    "    imgmontage = cv2.imread(montage, flags=cv2.IMREAD_GRAYSCALE)\n",
    "    h, w = imgmontage.shape\n",
    "\n",
    "    imgmontage = cv2.resize(imgmontage, (w/scale, h/scale) , interpolation = cv2.INTER_AREA)\n",
    "    scaled_montage_h, scaled_montage_w = imgmontage.shape\n",
    "    imgmontage = cv2.equalizeHist(imgmontage)\n",
    "    imgmontage = cv2.cvtColor(imgmontage, cv2.COLOR_GRAY2BGR)\n",
    "\n",
    "    # Focus values\n",
    "    img = cv2.resize(img, (scaled_montage_w, scaled_montage_h) , interpolation = cv2.INTER_AREA)\n",
    "    imin = np.min(img)\n",
    "    imax = np.max(img)\n",
    "    idelta = imax - imin\n",
    "\n",
    "    img2 = np.array((img - imin) / idelta * 255.0, dtype='uint8')\n",
    "\n",
    "    img = img.astype('uint8')\n",
    "    print img.shape\n",
    "    img = cv2.applyColorMap(img2, cv2.COLORMAP_JET)\n",
    "    print img.shape\n",
    "\n",
    "    print imgmontage.shape\n",
    "    print img.shape\n",
    "\n",
    "    fraction = 0.7\n",
    "    dst = cv2.addWeighted(imgmontage, fraction, img, 1-fraction, 0)\n",
    "    cv2.imshow(rootdir, dst)\n",
    "    cv2.waitKey(-1)\n",
    "\n",
    "def applyCustomColorMap(im_gray) :\n",
    "    ''' pseudocolor'''\n",
    "    lut = np.zeros((256, 1, 3), dtype=np.uint8)\n",
    "    lut[:, 0, 0] = [255,255,255,255,255,255,255,255,255,255,255,255,255,255,255,255,255,255,255,255,255,255,255,255,255,255,255,255,255,255,255,255,255,255,255,255,255,255,255,255,255,255,255,255,255,255,255,255,255,255,255,255,255,255,255,255,255,255,255,255,255,255,255,255,255,253,251,249,247,245,242,241,238,237,235,233,231,229,227,225,223,221,219,217,215,213,211,209,207,205,203,201,199,197,195,193,191,189,187,185,183,181,179,177,175,173,171,169,167,165,163,161,159,157,155,153,151,149,147,145,143,141,138,136,134,132,131,129,126,125,122,121,118,116,115,113,111,109,107,105,102,100,98,97,94,93,91,89,87,84,83,81,79,77,75,73,70,68,66,64,63,61,59,57,54,52,51,49,47,44,42,40,39,37,34,33,31,29,27,25,22,20,18,17,14,13,11,9,6,4,2,0,0,0,0,0,0,0,0,0,0,0,0,0,0,0,0,0,0,0,0,0,0,0,0,0,0,0,0,0,0,0,0,0,0,0,0,0,0,0,0,0,0,0,0,0,0,0,0,0,0,0,0,0,0,0,0,0,0,0,0,0,0,0,0,0]\n",
    "    lut[:, 0, 1] = [ 255,255,255,255,255,255,255,255,255,255,255,255,255,255,255,255,255,255,255,255,255,255,255,255,255,255,255,255,255,255,255,255,255,255,255,255,255,255,255,255,255,255,255,255,255,255,255,255,255,255,255,255,255,255,255,255,255,255,255,255,255,255,255,255,255,255,255,255,255,255,255,255,255,255,255,255,255,255,255,255,255,255,255,255,255,255,255,255,255,255,255,255,255,255,255,255,255,255,255,255,255,255,255,255,255,255,255,255,255,255,255,255,255,255,255,255,255,255,255,255,255,255,255,255,255,255,255,255,254,252,250,248,246,244,242,240,238,236,234,232,230,228,226,224,222,220,218,216,214,212,210,208,206,204,202,200,198,196,194,192,190,188,186,184,182,180,178,176,174,171,169,167,165,163,161,159,157,155,153,151,149,147,145,143,141,139,137,135,133,131,129,127,125,123,121,119,117,115,113,111,109,107,105,103,101,99,97,95,93,91,89,87,85,83,82,80,78,76,74,72,70,68,66,64,62,60,58,56,54,52,50,48,46,44,42,40,38,36,34,32,30,28,26,24,22,20,18,16,14,12,10,8,6,4,2,0 ]\n",
    "    lut[:, 0, 2] = [195,194,193,191,190,189,188,187,186,185,184,183,182,181,179,178,177,176,175,174,173,172,171,170,169,167,166,165,164,163,162,161,160,159,158,157,155,154,153,152,151,150,149,148,147,146,145,143,142,141,140,139,138,137,136,135,134,133,131,130,129,128,127,126,125,125,125,125,125,125,125,125,125,125,125,125,125,126,126,126,126,126,126,126,126,126,126,126,126,126,126,126,126,126,126,126,126,126,126,126,126,126,126,126,126,126,126,126,126,126,126,126,126,126,126,126,126,126,126,127,127,127,127,127,127,127,127,127,127,127,127,127,127,127,127,127,127,127,127,127,127,127,127,127,127,127,127,127,127,127,127,127,127,127,127,127,127,127,127,127,127,127,127,127,127,127,127,127,127,127,127,127,127,127,127,127,127,127,127,127,127,127,127,127,127,127,127,127,127,127,127,127,127,127,127,127,127,127,127,127,127,127,127,127,127,127,127,127,127,127,127,126,126,126,126,126,126,126,126,126,126,126,126,126,126,126,126,126,126,126,126,126,126,126,126,126,126,126,126,126,126,126,126,126,126,126,126,126,126,126,126,126,126,126,126,126]\n",
    "    print lut.shape\n",
    "    im_color = cv2.LUT(im_gray, lut)\n",
    "    return im_color;\n",
    "\n",
    "def heatmap_click(event, x, y, flags, param):\n",
    "    if event == cv2.EVENT_LBUTTONDOWN:\n",
    "        click_row = int(y / float(scaled_montage_h) * (trows+1))\n",
    "        click_col = int(x / float(scaled_montage_w) * (tcols+1))\n",
    "        print \"row: {}, col: {}\".format(click_row, click_col)\n",
    "        for name in glob.glob(os.path.join(rootdir, r\"*_{}_{}.tif\").format(click_col, click_row)):\n",
    "            print name\n",
    "        if name:\n",
    "            call([r\"C:\\Program Files (x86)\\IrfanView\\i_view32.exe\", name])\n",
    "\n",
    "\n",
    "Z = np.arange(256, dtype='uint8').reshape(16,16)\n",
    "Z = cv2.merge((Z,Z,Z))\n",
    "#print Z.shape\n",
    "#print Z\n",
    "\n",
    "P =  applyCustomColorMap(Z)\n",
    "cv2.imshow('pseudo', P)\n",
    "cv2.waitKey(-1)\n",
    "\n",
    "            \n",
    "start = 25 #25\n",
    "end = 25\n",
    "for i in range (start, end+1):\n",
    "    rootdir = r\"X:\\1x1mm_data\\239849_7R_0031_01\\0000\" + str(i) + r\"\\0\"\n",
    "    cv2.namedWindow(rootdir)\n",
    "    cv2.setMouseCallback(rootdir, heatmap_click)\n",
    "    \n",
    "    process_one(rootdir)"
   ]
  },
  {
   "cell_type": "code",
   "execution_count": null,
   "metadata": {
    "collapsed": true
   },
   "outputs": [],
   "source": []
  }
 ],
 "metadata": {
  "kernelspec": {
   "display_name": "Python 2",
   "language": "python",
   "name": "python2"
  },
  "language_info": {
   "codemirror_mode": {
    "name": "ipython",
    "version": 2
   },
   "file_extension": ".py",
   "mimetype": "text/x-python",
   "name": "python",
   "nbconvert_exporter": "python",
   "pygments_lexer": "ipython2",
   "version": "2.7.10"
  }
 },
 "nbformat": 4,
 "nbformat_minor": 0
}
