{
 "cells": [
  {
   "cell_type": "code",
   "execution_count": 1,
   "metadata": {
    "collapsed": false
   },
   "outputs": [],
   "source": [
    "# %matplotlib inline"
   ]
  },
  {
   "cell_type": "code",
   "execution_count": null,
   "metadata": {
    "collapsed": false
   },
   "outputs": [],
   "source": []
  },
  {
   "cell_type": "code",
   "execution_count": 2,
   "metadata": {
    "collapsed": false
   },
   "outputs": [
    {
     "name": "stdout",
     "output_type": "stream",
     "text": [
      "Available matplotlib backends: ['osx', 'qt4', 'qt5', 'gtk3', 'notebook', 'wx', 'qt', 'nbagg', 'gtk', 'tk', 'inline']\n"
     ]
    }
   ],
   "source": [
    " %matplotlib --list"
   ]
  },
  {
   "cell_type": "code",
   "execution_count": 9,
   "metadata": {
    "collapsed": false
   },
   "outputs": [
    {
     "name": "stdout",
     "output_type": "stream",
     "text": [
      "94 95\n",
      "(963L, 973L)\n",
      "(963L, 973L, 3L)\n",
      "(963L, 973L, 3L)\n",
      "(963L, 973L, 3L)\n",
      "row: 15, col: 53\n",
      "X:\\1x1mm_data\\239849_7R_0031_01\\000025\\0\\20170308131748272_239849_7R_0031_01_000025_0_53_15.tif\n"
     ]
    }
   ],
   "source": [
    "# analyze the focus values for a montage\n",
    "import cv2\n",
    "import numpy as np\n",
    "from mpl_toolkits.mplot3d import Axes3D\n",
    "import matplotlib.pyplot as plt\n",
    "import matplotlib.colors as mc\n",
    "import json\n",
    "import glob\n",
    "import os\n",
    "from subprocess import call\n",
    "\n",
    "min_v_to_plot = 37\n",
    "#cmap = plt.cm.hot \n",
    "cmap = plt.cm.rainbow\n",
    "scale = 8\n",
    "trows = 0\n",
    "tcols = 0\n",
    "scaled_montage_w = 0\n",
    "scaled_montage_h = 0\n",
    "root_dir = \"\"\n",
    "\n",
    "def display_surface(img):\n",
    "    fig=plt.figure()\n",
    "    ax = Axes3D(fig)\n",
    "    w,h = img.shape\n",
    "    xx, yy = np.mgrid[0:w, 0:h]\n",
    "    \n",
    "    # plot3D requires a 1D array for x, y, and z\n",
    "    # ravel() converts the 100x100 array into a 1x10000 array\n",
    "    #ax.plot_surface(xx,yy,img,  cmap=plt.cm.jet)\n",
    "    ax.plot_surface(xx,yy,img, rstride=2, cstride=2, linewidth=0, cmap=cmap, vmin=min_v_to_plot, antialiased=False,  shade=True, )\n",
    "    #ax.plot_wireframe(xx,yy,img, linewidth=1, cmap=cmap)\n",
    "    ax.set_xlabel('X')\n",
    "    ax.set_ylabel('Y')\n",
    "    ax.set_zlabel('Z')\n",
    "    fig.add_axes(ax)\n",
    "    plt.show()\n",
    "\n",
    "def get_meta_and_montage_files(rootdir):\n",
    "    '''get the names of the meta and montage files'''\n",
    "    for name in glob.glob(os.path.join(rootdir, r\"_meta*.*\")):\n",
    "        meta = name\n",
    "    for name in glob.glob(os.path.join(rootdir, r\"_montage*.*\")):\n",
    "        montage = name\n",
    "    return (meta, montage)\n",
    "\n",
    "\n",
    "def process_one(rootdir):\n",
    "    global trows, tcols, scaled_montage_h, scaled_montage_w\n",
    "\n",
    "    meta, montage = get_meta_and_montage_files(rootdir)\n",
    "\n",
    "    with open(meta) as data_file:\n",
    "        json_data = json.load(data_file)\n",
    "\n",
    "    data = json_data[1]['data']\n",
    "\n",
    "    # figure out the number of rows and columns\n",
    "    trows = tcols = 0\n",
    "    for tile in data:\n",
    "        rp = tile['img_meta']['raster_pos']\n",
    "        col = rp[0]\n",
    "        row = rp[1]\n",
    "        #print row, col\n",
    "        if row > trows:\n",
    "            trows = row\n",
    "        if col > tcols:\n",
    "            tcols = col\n",
    "\n",
    "    print trows, tcols\n",
    "\n",
    "    img = np.empty((int(trows + 1), int(tcols+1)))\n",
    "    img.fill(min_v_to_plot)\n",
    "\n",
    "    for tile in data:\n",
    "        rp = tile['img_meta']['raster_pos']\n",
    "        col = rp[0]\n",
    "        row = rp[1]\n",
    "        focus = tile[\"focus_score\"]\n",
    "        if focus < min_v_to_plot:  # danger, removing data!!!\n",
    "            focus = min_v_to_plot\n",
    "        #print focus\n",
    "        img[row][col] = focus\n",
    "\n",
    "    # MONTAGE\n",
    "    imgmontage = cv2.imread(montage, flags=cv2.IMREAD_GRAYSCALE)\n",
    "    h, w = imgmontage.shape\n",
    "\n",
    "    imgmontage = cv2.resize(imgmontage, (w/scale, h/scale) , interpolation = cv2.INTER_AREA)\n",
    "    scaled_montage_h, scaled_montage_w = imgmontage.shape\n",
    "    imgmontage = cv2.equalizeHist(imgmontage)\n",
    "    imgmontage = cv2.cvtColor(imgmontage, cv2.COLOR_GRAY2BGR)\n",
    "\n",
    "    # Focus values\n",
    "    img = cv2.resize(img, (scaled_montage_w, scaled_montage_h) , interpolation = cv2.INTER_AREA)\n",
    "    imin = np.min(img)\n",
    "    imax = np.max(img)\n",
    "    idelta = imax - imin\n",
    "\n",
    "    img2 = np.array((img - imin) / idelta * 255.0, dtype='uint8')\n",
    "\n",
    "    img = img.astype('uint8')\n",
    "    print img.shape\n",
    "    img = cv2.applyColorMap(img2, cv2.COLORMAP_JET)\n",
    "    print img.shape\n",
    "\n",
    "    print imgmontage.shape\n",
    "    print img.shape\n",
    "\n",
    "    fraction = 0.7\n",
    "    dst = cv2.addWeighted(imgmontage, fraction, img, 1-fraction, 0)\n",
    "    cv2.imshow(rootdir, dst)\n",
    "    cv2.waitKey(-1)\n",
    "\n",
    "\n",
    "def heatmap_click(event, x, y, flags, param):\n",
    "    if event == cv2.EVENT_LBUTTONDOWN:\n",
    "        click_row = int(y / float(scaled_montage_h) * (trows+1))\n",
    "        click_col = int(x / float(scaled_montage_w) * (tcols+1))\n",
    "        print \"row: {}, col: {}\".format(click_row, click_col)\n",
    "        for name in glob.glob(os.path.join(rootdir, r\"*_{}_{}.tif\").format(click_col, click_row)):\n",
    "            print name\n",
    "        if name:\n",
    "            call([r\"C:\\Program Files (x86)\\IrfanView\\i_view32.exe\", name])\n",
    "\n",
    "\n",
    "\n",
    "start = 25 #25\n",
    "end = 25\n",
    "for i in range (start, end+1):\n",
    "    rootdir = r\"X:\\1x1mm_data\\239849_7R_0031_01\\0000\" + str(i) + r\"\\0\"\n",
    "    cv2.namedWindow(rootdir)\n",
    "    cv2.setMouseCallback(rootdir, heatmap_click)\n",
    "    \n",
    "    process_one(rootdir)"
   ]
  },
  {
   "cell_type": "code",
   "execution_count": null,
   "metadata": {
    "collapsed": true
   },
   "outputs": [],
   "source": []
  }
 ],
 "metadata": {
  "kernelspec": {
   "display_name": "Python 2",
   "language": "python",
   "name": "python2"
  },
  "language_info": {
   "codemirror_mode": {
    "name": "ipython",
    "version": 2
   },
   "file_extension": ".py",
   "mimetype": "text/x-python",
   "name": "python",
   "nbconvert_exporter": "python",
   "pygments_lexer": "ipython2",
   "version": "2.7.10"
  }
 },
 "nbformat": 4,
 "nbformat_minor": 0
}
